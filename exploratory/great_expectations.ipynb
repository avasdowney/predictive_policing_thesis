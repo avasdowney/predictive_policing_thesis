{
 "cells": [
  {
   "cell_type": "code",
   "execution_count": 1,
   "metadata": {
    "collapsed": true
   },
   "outputs": [],
   "source": [
    "import pandas as pd\n",
    "import numpy as np\n",
    "\n",
    "from ruamel import yaml\n",
    "\n",
    "import great_expectations as ge\n",
    "from great_expectations.core.batch import BatchRequest, RuntimeBatchRequest\n",
    "from great_expectations.data_context.data_context import DataContext\n",
    "\n",
    "context = ge.get_context()"
   ]
  },
  {
   "cell_type": "code",
   "execution_count": 2,
   "metadata": {
    "collapsed": false,
    "pycharm": {
     "name": "#%%\n"
    }
   },
   "outputs": [],
   "source": [
    "datasource_config = {\n",
    "    \"name\": \"ava_thesis\",\n",
    "    \"class_name\": \"Datasource\",\n",
    "    \"module_name\": \"great_expectations.datasource\",\n",
    "    \"execution_engine\": {\n",
    "        \"module_name\": \"great_expectations.execution_engine\",\n",
    "        \"class_name\": \"PandasExecutionEngine\",\n",
    "    },\n",
    "    \"data_connectors\": {\n",
    "        \"default_runtime_data_connector_name\": {\n",
    "            \"class_name\": \"RuntimeDataConnector\",\n",
    "            \"module_name\": \"great_expectations.datasource.data_connector\",\n",
    "            \"batch_identifiers\": [\"default_identifier_name\"],\n",
    "        },\n",
    "        \"default_inferred_data_connector_name\": {\n",
    "            \"class_name\": \"InferredAssetFilesystemDataConnector\",\n",
    "            \"base_directory\": \"data/Strategic_Subject_List_-_Historical.csv\",\n",
    "            \"default_regex\": {\"group_names\": [\"data_asset_name\"], \"pattern\": \"(.*)\"},\n",
    "        },\n",
    "    },\n",
    "}"
   ]
  },
  {
   "cell_type": "code",
   "execution_count": 3,
   "metadata": {
    "collapsed": false,
    "pycharm": {
     "name": "#%%\n"
    }
   },
   "outputs": [
    {
     "name": "stdout",
     "output_type": "stream",
     "text": [
      "Attempting to instantiate class from config...\n",
      "\tInstantiating as a Datasource, since class_name is Datasource\n",
      "\tSuccessfully instantiated Datasource\n",
      "\n",
      "\n",
      "ExecutionEngine class name: PandasExecutionEngine\n",
      "Data Connectors:\n",
      "\tdefault_inferred_data_connector_name : InferredAssetFilesystemDataConnector\n",
      "\n",
      "\tAvailable data_asset_names (0 of 0):\n",
      "\n",
      "\tUnmatched data_references (0 of 0):[]\n",
      "\n",
      "\tdefault_runtime_data_connector_name:RuntimeDataConnector\n",
      "\n",
      "\tAvailable data_asset_names (0 of 0):\n",
      "\t\tNote : RuntimeDataConnector will not have data_asset_names until they are passed in through RuntimeBatchRequest\n",
      "\n",
      "\tUnmatched data_references (0 of 0): []\n",
      "\n"
     ]
    },
    {
     "data": {
      "text/plain": [
       "<great_expectations.datasource.new_datasource.Datasource at 0x7f8a17e2ca30>"
      ]
     },
     "execution_count": 3,
     "metadata": {},
     "output_type": "execute_result"
    }
   ],
   "source": [
    "context.test_yaml_config(yaml.dump(datasource_config))\n"
   ]
  },
  {
   "cell_type": "code",
   "execution_count": 4,
   "metadata": {
    "collapsed": false,
    "pycharm": {
     "name": "#%%\n"
    }
   },
   "outputs": [
    {
     "data": {
      "text/plain": [
       "<great_expectations.datasource.new_datasource.Datasource at 0x7f8a17de50a0>"
      ]
     },
     "execution_count": 4,
     "metadata": {},
     "output_type": "execute_result"
    }
   ],
   "source": [
    "context.add_datasource(**datasource_config)"
   ]
  },
  {
   "cell_type": "code",
   "execution_count": 5,
   "metadata": {
    "collapsed": false,
    "pycharm": {
     "name": "#%%\n"
    }
   },
   "outputs": [],
   "source": [
    "batch_request = RuntimeBatchRequest(\n",
    "    datasource_name=\"ava_thesis\",\n",
    "    data_connector_name=\"default_runtime_data_connector_name\",\n",
    "    data_asset_name=\"police_data\",  # This can be anything that identifies this data_asset for you\n",
    "    runtime_parameters={\"path\": \"data/Strategic_Subject_List_-_Historical.csv\"},  # Add your path here.\n",
    "    batch_identifiers={\"default_identifier_name\": \"default_identifier\"},\n",
    ")"
   ]
  },
  {
   "cell_type": "code",
   "execution_count": 6,
   "metadata": {
    "collapsed": false,
    "pycharm": {
     "name": "#%%\n"
    }
   },
   "outputs": [
    {
     "name": "stderr",
     "output_type": "stream",
     "text": [
      "/home/avasd/.local/lib/python3.8/site-packages/great_expectations/execution_engine/pandas_execution_engine.py:320: DtypeWarning: Columns (47) have mixed types. Specify dtype option on import or set low_memory=False.\n",
      "  df = reader_fn(path, **reader_options)\n"
     ]
    },
    {
     "data": {
      "application/vnd.jupyter.widget-view+json": {
       "model_id": "00146e5385c94829afd3f5781d571572",
       "version_major": 2,
       "version_minor": 0
      },
      "text/plain": [
       "Calculating Metrics:   0%|          | 0/1 [00:00<?, ?it/s]"
      ]
     },
     "metadata": {},
     "output_type": "display_data"
    },
    {
     "name": "stdout",
     "output_type": "stream",
     "text": [
      "   SSL SCORE PREDICTOR RAT AGE AT LATEST ARREST  \\\n",
      "0        306                              20-30   \n",
      "1        352                              20-30   \n",
      "2        349                              20-30   \n",
      "3        344                              20-30   \n",
      "4        343                              20-30   \n",
      "\n",
      "   PREDICTOR RAT VICTIM SHOOTING INCIDENTS  \\\n",
      "0                                        0   \n",
      "1                                        0   \n",
      "2                                        0   \n",
      "3                                        0   \n",
      "4                                        0   \n",
      "\n",
      "   PREDICTOR RAT VICTIM BATTERY OR ASSAULT  \\\n",
      "0                                        0   \n",
      "1                                        1   \n",
      "2                                        0   \n",
      "3                                        0   \n",
      "4                                        0   \n",
      "\n",
      "   PREDICTOR RAT ARRESTS VIOLENT OFFENSES  PREDICTOR RAT GANG AFFILIATION  \\\n",
      "0                                       0                               0   \n",
      "1                                       0                               0   \n",
      "2                                       2                               0   \n",
      "3                                       3                               0   \n",
      "4                                       1                               0   \n",
      "\n",
      "   PREDICTOR RAT NARCOTIC ARRESTS  PREDICTOR RAT TREND IN CRIMINAL ACTIVITY  \\\n",
      "0                               0                                      -0.3   \n",
      "1                               0                                       0.0   \n",
      "2                               2                                       0.0   \n",
      "3                               0                                      -0.3   \n",
      "4                               0                                       0.4   \n",
      "\n",
      "   PREDICTOR RAT UUW ARRESTS SEX CODE CD  ... RAW_HEAT_SCORE STATUS I  \\\n",
      "0                          0           M  ...        0.09110        Y   \n",
      "1                          0           M  ...        0.09949        Y   \n",
      "2                          0           M  ...        0.09908        Y   \n",
      "3                          0           M  ...        0.09810        Y   \n",
      "4                          0           M  ...        0.09794        Y   \n",
      "\n",
      "  PRE RAW HEAT SCORE TRAP FLAGS SSL FLAGS  LATITUDE LONGITUDE  CENSUS TRACT  \\\n",
      "0               9110        NaN       NaN       NaN       NaN           NaN   \n",
      "1               9949        NaN       NaN       NaN       NaN           NaN   \n",
      "2               9908        NaN       NaN       NaN       NaN           NaN   \n",
      "3               9810        NaN       NaN       NaN       NaN           NaN   \n",
      "4               9794        NaN       NaN       NaN       NaN           NaN   \n",
      "\n",
      "   COMMUNITY AREA  LOCATION  \n",
      "0                       NaN  \n",
      "1                       NaN  \n",
      "2                       NaN  \n",
      "3                       NaN  \n",
      "4                       NaN  \n",
      "\n",
      "[5 rows x 48 columns]\n"
     ]
    }
   ],
   "source": [
    "context.create_expectation_suite(\n",
    "    expectation_suite_name=\"thesis_suite\", overwrite_existing=True\n",
    ")\n",
    "validator = context.get_validator(\n",
    "    batch_request=batch_request, expectation_suite_name=\"thesis_suite\"\n",
    ")\n",
    "print(validator.head())"
   ]
  },
  {
   "cell_type": "code",
   "execution_count": 7,
   "metadata": {
    "collapsed": false,
    "pycharm": {
     "name": "#%%\n"
    }
   },
   "outputs": [
    {
     "name": "stderr",
     "output_type": "stream",
     "text": [
      "/home/avasd/.local/lib/python3.8/site-packages/great_expectations/util.py:495: DtypeWarning: Columns (47) have mixed types. Specify dtype option on import or set low_memory=False.\n",
      "  df = pd.read_csv(filename, *args, **kwargs)\n"
     ]
    },
    {
     "data": {
      "text/html": [
       "<div>\n",
       "<style scoped>\n",
       "    .dataframe tbody tr th:only-of-type {\n",
       "        vertical-align: middle;\n",
       "    }\n",
       "\n",
       "    .dataframe tbody tr th {\n",
       "        vertical-align: top;\n",
       "    }\n",
       "\n",
       "    .dataframe thead th {\n",
       "        text-align: right;\n",
       "    }\n",
       "</style>\n",
       "<table border=\"1\" class=\"dataframe\">\n",
       "  <thead>\n",
       "    <tr style=\"text-align: right;\">\n",
       "      <th></th>\n",
       "      <th>SSL SCORE</th>\n",
       "      <th>PREDICTOR RAT AGE AT LATEST ARREST</th>\n",
       "      <th>PREDICTOR RAT VICTIM SHOOTING INCIDENTS</th>\n",
       "      <th>PREDICTOR RAT VICTIM BATTERY OR ASSAULT</th>\n",
       "      <th>PREDICTOR RAT ARRESTS VIOLENT OFFENSES</th>\n",
       "      <th>PREDICTOR RAT GANG AFFILIATION</th>\n",
       "      <th>PREDICTOR RAT NARCOTIC ARRESTS</th>\n",
       "      <th>PREDICTOR RAT TREND IN CRIMINAL ACTIVITY</th>\n",
       "      <th>PREDICTOR RAT UUW ARRESTS</th>\n",
       "      <th>SEX CODE CD</th>\n",
       "      <th>...</th>\n",
       "      <th>RAW_HEAT_SCORE</th>\n",
       "      <th>STATUS I</th>\n",
       "      <th>PRE RAW HEAT SCORE</th>\n",
       "      <th>TRAP FLAGS</th>\n",
       "      <th>SSL FLAGS</th>\n",
       "      <th>LATITUDE</th>\n",
       "      <th>LONGITUDE</th>\n",
       "      <th>CENSUS TRACT</th>\n",
       "      <th>COMMUNITY AREA</th>\n",
       "      <th>LOCATION</th>\n",
       "    </tr>\n",
       "  </thead>\n",
       "  <tbody>\n",
       "    <tr>\n",
       "      <th>0</th>\n",
       "      <td>306</td>\n",
       "      <td>20-30</td>\n",
       "      <td>0</td>\n",
       "      <td>0</td>\n",
       "      <td>0</td>\n",
       "      <td>0</td>\n",
       "      <td>0</td>\n",
       "      <td>-0.3</td>\n",
       "      <td>0</td>\n",
       "      <td>M</td>\n",
       "      <td>...</td>\n",
       "      <td>0.09110</td>\n",
       "      <td>Y</td>\n",
       "      <td>9110</td>\n",
       "      <td>NaN</td>\n",
       "      <td>NaN</td>\n",
       "      <td>NaN</td>\n",
       "      <td>NaN</td>\n",
       "      <td>NaN</td>\n",
       "      <td></td>\n",
       "      <td>NaN</td>\n",
       "    </tr>\n",
       "    <tr>\n",
       "      <th>1</th>\n",
       "      <td>352</td>\n",
       "      <td>20-30</td>\n",
       "      <td>0</td>\n",
       "      <td>1</td>\n",
       "      <td>0</td>\n",
       "      <td>0</td>\n",
       "      <td>0</td>\n",
       "      <td>0.0</td>\n",
       "      <td>0</td>\n",
       "      <td>M</td>\n",
       "      <td>...</td>\n",
       "      <td>0.09949</td>\n",
       "      <td>Y</td>\n",
       "      <td>9949</td>\n",
       "      <td>NaN</td>\n",
       "      <td>NaN</td>\n",
       "      <td>NaN</td>\n",
       "      <td>NaN</td>\n",
       "      <td>NaN</td>\n",
       "      <td></td>\n",
       "      <td>NaN</td>\n",
       "    </tr>\n",
       "    <tr>\n",
       "      <th>2</th>\n",
       "      <td>349</td>\n",
       "      <td>20-30</td>\n",
       "      <td>0</td>\n",
       "      <td>0</td>\n",
       "      <td>2</td>\n",
       "      <td>0</td>\n",
       "      <td>2</td>\n",
       "      <td>0.0</td>\n",
       "      <td>0</td>\n",
       "      <td>M</td>\n",
       "      <td>...</td>\n",
       "      <td>0.09908</td>\n",
       "      <td>Y</td>\n",
       "      <td>9908</td>\n",
       "      <td>NaN</td>\n",
       "      <td>NaN</td>\n",
       "      <td>NaN</td>\n",
       "      <td>NaN</td>\n",
       "      <td>NaN</td>\n",
       "      <td></td>\n",
       "      <td>NaN</td>\n",
       "    </tr>\n",
       "    <tr>\n",
       "      <th>3</th>\n",
       "      <td>344</td>\n",
       "      <td>20-30</td>\n",
       "      <td>0</td>\n",
       "      <td>0</td>\n",
       "      <td>3</td>\n",
       "      <td>0</td>\n",
       "      <td>0</td>\n",
       "      <td>-0.3</td>\n",
       "      <td>0</td>\n",
       "      <td>M</td>\n",
       "      <td>...</td>\n",
       "      <td>0.09810</td>\n",
       "      <td>Y</td>\n",
       "      <td>9810</td>\n",
       "      <td>NaN</td>\n",
       "      <td>NaN</td>\n",
       "      <td>NaN</td>\n",
       "      <td>NaN</td>\n",
       "      <td>NaN</td>\n",
       "      <td></td>\n",
       "      <td>NaN</td>\n",
       "    </tr>\n",
       "    <tr>\n",
       "      <th>4</th>\n",
       "      <td>343</td>\n",
       "      <td>20-30</td>\n",
       "      <td>0</td>\n",
       "      <td>0</td>\n",
       "      <td>1</td>\n",
       "      <td>0</td>\n",
       "      <td>0</td>\n",
       "      <td>0.4</td>\n",
       "      <td>0</td>\n",
       "      <td>M</td>\n",
       "      <td>...</td>\n",
       "      <td>0.09794</td>\n",
       "      <td>Y</td>\n",
       "      <td>9794</td>\n",
       "      <td>NaN</td>\n",
       "      <td>NaN</td>\n",
       "      <td>NaN</td>\n",
       "      <td>NaN</td>\n",
       "      <td>NaN</td>\n",
       "      <td></td>\n",
       "      <td>NaN</td>\n",
       "    </tr>\n",
       "  </tbody>\n",
       "</table>\n",
       "<p>5 rows × 48 columns</p>\n",
       "</div>"
      ],
      "text/plain": [
       "   SSL SCORE PREDICTOR RAT AGE AT LATEST ARREST  \\\n",
       "0        306                              20-30   \n",
       "1        352                              20-30   \n",
       "2        349                              20-30   \n",
       "3        344                              20-30   \n",
       "4        343                              20-30   \n",
       "\n",
       "   PREDICTOR RAT VICTIM SHOOTING INCIDENTS  \\\n",
       "0                                        0   \n",
       "1                                        0   \n",
       "2                                        0   \n",
       "3                                        0   \n",
       "4                                        0   \n",
       "\n",
       "   PREDICTOR RAT VICTIM BATTERY OR ASSAULT  \\\n",
       "0                                        0   \n",
       "1                                        1   \n",
       "2                                        0   \n",
       "3                                        0   \n",
       "4                                        0   \n",
       "\n",
       "   PREDICTOR RAT ARRESTS VIOLENT OFFENSES  PREDICTOR RAT GANG AFFILIATION  \\\n",
       "0                                       0                               0   \n",
       "1                                       0                               0   \n",
       "2                                       2                               0   \n",
       "3                                       3                               0   \n",
       "4                                       1                               0   \n",
       "\n",
       "   PREDICTOR RAT NARCOTIC ARRESTS  PREDICTOR RAT TREND IN CRIMINAL ACTIVITY  \\\n",
       "0                               0                                      -0.3   \n",
       "1                               0                                       0.0   \n",
       "2                               2                                       0.0   \n",
       "3                               0                                      -0.3   \n",
       "4                               0                                       0.4   \n",
       "\n",
       "   PREDICTOR RAT UUW ARRESTS SEX CODE CD  ... RAW_HEAT_SCORE STATUS I  \\\n",
       "0                          0           M  ...        0.09110        Y   \n",
       "1                          0           M  ...        0.09949        Y   \n",
       "2                          0           M  ...        0.09908        Y   \n",
       "3                          0           M  ...        0.09810        Y   \n",
       "4                          0           M  ...        0.09794        Y   \n",
       "\n",
       "  PRE RAW HEAT SCORE TRAP FLAGS SSL FLAGS  LATITUDE LONGITUDE  CENSUS TRACT  \\\n",
       "0               9110        NaN       NaN       NaN       NaN           NaN   \n",
       "1               9949        NaN       NaN       NaN       NaN           NaN   \n",
       "2               9908        NaN       NaN       NaN       NaN           NaN   \n",
       "3               9810        NaN       NaN       NaN       NaN           NaN   \n",
       "4               9794        NaN       NaN       NaN       NaN           NaN   \n",
       "\n",
       "   COMMUNITY AREA  LOCATION  \n",
       "0                       NaN  \n",
       "1                       NaN  \n",
       "2                       NaN  \n",
       "3                       NaN  \n",
       "4                       NaN  \n",
       "\n",
       "[5 rows x 48 columns]"
      ]
     },
     "execution_count": 7,
     "metadata": {},
     "output_type": "execute_result"
    }
   ],
   "source": [
    "df = ge.read_csv(\"data/Strategic_Subject_List_-_Historical.csv\")\n",
    "df.head()"
   ]
  },
  {
   "cell_type": "code",
   "execution_count": 8,
   "metadata": {
    "collapsed": false,
    "pycharm": {
     "name": "#%%\n"
    }
   },
   "outputs": [
    {
     "data": {
      "text/plain": [
       "{\n",
       "  \"expectations\": [],\n",
       "  \"expectation_suite_name\": \"default\",\n",
       "  \"meta\": {\n",
       "    \"great_expectations_version\": \"0.15.26\"\n",
       "  },\n",
       "  \"ge_cloud_id\": null,\n",
       "  \"data_asset_type\": \"Dataset\"\n",
       "}"
      ]
     },
     "execution_count": 8,
     "metadata": {},
     "output_type": "execute_result"
    }
   ],
   "source": [
    "df.get_expectation_suite(discard_failed_expectations=False)"
   ]
  },
  {
   "cell_type": "code",
   "execution_count": 9,
   "metadata": {
    "collapsed": false,
    "pycharm": {
     "name": "#%%\n"
    }
   },
   "outputs": [],
   "source": [
    "context = DataContext(\n",
    "    context_root_dir='great_expectations'\n",
    ")"
   ]
  },
  {
   "cell_type": "code",
   "execution_count": 10,
   "metadata": {},
   "outputs": [],
   "source": [
    "expectation_suite_name = \"thesis_suite\"\n",
    "\n",
    "batch_request = {\n",
    "    \"datasource_name\": \"ava_thesis\",\n",
    "    \"data_connector_name\": \"default_runtime_data_connector_name\",\n",
    "    \"data_asset_name\": \"data/Strategic_Subject_List_-_Historical.csv\",\n",
    "}"
   ]
  },
  {
   "cell_type": "code",
   "execution_count": 11,
   "metadata": {},
   "outputs": [
    {
     "ename": "TypeError",
     "evalue": "'NoneType' object is not iterable",
     "output_type": "error",
     "traceback": [
      "\u001b[0;31m---------------------------------------------------------------------------\u001b[0m",
      "\u001b[0;31mTypeError\u001b[0m                                 Traceback (most recent call last)",
      "Cell \u001b[0;32mIn [11], line 1\u001b[0m\n\u001b[0;32m----> 1\u001b[0m validator \u001b[39m=\u001b[39m context\u001b[39m.\u001b[39;49mget_validator(\n\u001b[1;32m      2\u001b[0m     batch_request\u001b[39m=\u001b[39;49mBatchRequest(\u001b[39m*\u001b[39;49m\u001b[39m*\u001b[39;49mbatch_request),\n\u001b[1;32m      3\u001b[0m     expectation_suite_name\u001b[39m=\u001b[39;49mexpectation_suite_name\n\u001b[1;32m      4\u001b[0m )\n\u001b[1;32m      6\u001b[0m validator\u001b[39m.\u001b[39mhead()\n",
      "File \u001b[0;32m~/.local/lib/python3.8/site-packages/great_expectations/data_context/data_context/abstract_data_context.py:932\u001b[0m, in \u001b[0;36mAbstractDataContext.get_validator\u001b[0;34m(self, datasource_name, data_connector_name, data_asset_name, batch, batch_list, batch_request, batch_request_list, batch_data, data_connector_query, batch_identifiers, limit, index, custom_filter_function, sampling_method, sampling_kwargs, splitter_method, splitter_kwargs, runtime_parameters, query, path, batch_filter_parameters, expectation_suite_ge_cloud_id, batch_spec_passthrough, expectation_suite_name, expectation_suite, create_expectation_suite_with_name, include_rendered_content, **kwargs)\u001b[0m\n\u001b[1;32m    928\u001b[0m         batch_request_list \u001b[39m=\u001b[39m [batch_request]  \u001b[39m# type: ignore[list-item]\u001b[39;00m\n\u001b[1;32m    930\u001b[0m     \u001b[39mfor\u001b[39;00m batch_request \u001b[39min\u001b[39;00m batch_request_list:\n\u001b[1;32m    931\u001b[0m         batch_list\u001b[39m.\u001b[39mextend(  \u001b[39m# type: ignore[union-attr]\u001b[39;00m\n\u001b[0;32m--> 932\u001b[0m             \u001b[39mself\u001b[39;49m\u001b[39m.\u001b[39;49mget_batch_list(\n\u001b[1;32m    933\u001b[0m                 datasource_name\u001b[39m=\u001b[39;49mdatasource_name,\n\u001b[1;32m    934\u001b[0m                 data_connector_name\u001b[39m=\u001b[39;49mdata_connector_name,\n\u001b[1;32m    935\u001b[0m                 data_asset_name\u001b[39m=\u001b[39;49mdata_asset_name,\n\u001b[1;32m    936\u001b[0m                 batch_request\u001b[39m=\u001b[39;49mbatch_request,\n\u001b[1;32m    937\u001b[0m                 batch_data\u001b[39m=\u001b[39;49mbatch_data,\n\u001b[1;32m    938\u001b[0m                 data_connector_query\u001b[39m=\u001b[39;49mdata_connector_query,\n\u001b[1;32m    939\u001b[0m                 batch_identifiers\u001b[39m=\u001b[39;49mbatch_identifiers,\n\u001b[1;32m    940\u001b[0m                 limit\u001b[39m=\u001b[39;49mlimit,\n\u001b[1;32m    941\u001b[0m                 index\u001b[39m=\u001b[39;49mindex,\n\u001b[1;32m    942\u001b[0m                 custom_filter_function\u001b[39m=\u001b[39;49mcustom_filter_function,\n\u001b[1;32m    943\u001b[0m                 sampling_method\u001b[39m=\u001b[39;49msampling_method,\n\u001b[1;32m    944\u001b[0m                 sampling_kwargs\u001b[39m=\u001b[39;49msampling_kwargs,\n\u001b[1;32m    945\u001b[0m                 splitter_method\u001b[39m=\u001b[39;49msplitter_method,\n\u001b[1;32m    946\u001b[0m                 splitter_kwargs\u001b[39m=\u001b[39;49msplitter_kwargs,\n\u001b[1;32m    947\u001b[0m                 runtime_parameters\u001b[39m=\u001b[39;49mruntime_parameters,\n\u001b[1;32m    948\u001b[0m                 query\u001b[39m=\u001b[39;49mquery,\n\u001b[1;32m    949\u001b[0m                 path\u001b[39m=\u001b[39;49mpath,\n\u001b[1;32m    950\u001b[0m                 batch_filter_parameters\u001b[39m=\u001b[39;49mbatch_filter_parameters,\n\u001b[1;32m    951\u001b[0m                 batch_spec_passthrough\u001b[39m=\u001b[39;49mbatch_spec_passthrough,\n\u001b[1;32m    952\u001b[0m                 \u001b[39m*\u001b[39;49m\u001b[39m*\u001b[39;49mkwargs,\n\u001b[1;32m    953\u001b[0m             )\n\u001b[1;32m    954\u001b[0m         )\n\u001b[1;32m    956\u001b[0m \u001b[39mreturn\u001b[39;00m \u001b[39mself\u001b[39m\u001b[39m.\u001b[39mget_validator_using_batch_list(\n\u001b[1;32m    957\u001b[0m     expectation_suite\u001b[39m=\u001b[39mexpectation_suite,  \u001b[39m# type: ignore[arg-type]\u001b[39;00m\n\u001b[1;32m    958\u001b[0m     batch_list\u001b[39m=\u001b[39mbatch_list,  \u001b[39m# type: ignore[arg-type]\u001b[39;00m\n\u001b[1;32m    959\u001b[0m     include_rendered_content\u001b[39m=\u001b[39minclude_rendered_content,\n\u001b[1;32m    960\u001b[0m )\n",
      "File \u001b[0;32m~/.local/lib/python3.8/site-packages/great_expectations/core/usage_statistics/usage_statistics.py:294\u001b[0m, in \u001b[0;36musage_statistics_enabled_method.<locals>.usage_statistics_wrapped_method\u001b[0;34m(*args, **kwargs)\u001b[0m\n\u001b[1;32m    291\u001b[0m     \u001b[39mif\u001b[39;00m args_payload_fn \u001b[39mis\u001b[39;00m \u001b[39mnot\u001b[39;00m \u001b[39mNone\u001b[39;00m:\n\u001b[1;32m    292\u001b[0m         nested_update(event_payload, args_payload_fn(\u001b[39m*\u001b[39margs, \u001b[39m*\u001b[39m\u001b[39m*\u001b[39mkwargs))\n\u001b[0;32m--> 294\u001b[0m     result \u001b[39m=\u001b[39m func(\u001b[39m*\u001b[39;49margs, \u001b[39m*\u001b[39;49m\u001b[39m*\u001b[39;49mkwargs)\n\u001b[1;32m    295\u001b[0m     message[\u001b[39m\"\u001b[39m\u001b[39msuccess\u001b[39m\u001b[39m\"\u001b[39m] \u001b[39m=\u001b[39m \u001b[39mTrue\u001b[39;00m\n\u001b[1;32m    296\u001b[0m \u001b[39mexcept\u001b[39;00m \u001b[39mException\u001b[39;00m:\n",
      "File \u001b[0;32m~/.local/lib/python3.8/site-packages/great_expectations/data_context/data_context/base_data_context.py:1229\u001b[0m, in \u001b[0;36mBaseDataContext.get_batch_list\u001b[0;34m(self, datasource_name, data_connector_name, data_asset_name, batch_request, batch_data, data_connector_query, batch_identifiers, limit, index, custom_filter_function, sampling_method, sampling_kwargs, splitter_method, splitter_kwargs, runtime_parameters, query, path, batch_filter_parameters, batch_spec_passthrough, **kwargs)\u001b[0m\n\u001b[1;32m   1160\u001b[0m \u001b[39m@usage_statistics_enabled_method\u001b[39m(\n\u001b[1;32m   1161\u001b[0m     event_name\u001b[39m=\u001b[39mUsageStatsEvents\u001b[39m.\u001b[39mDATA_CONTEXT_GET_BATCH_LIST\u001b[39m.\u001b[39mvalue,\n\u001b[1;32m   1162\u001b[0m     args_payload_fn\u001b[39m=\u001b[39mget_batch_list_usage_statistics,\n\u001b[0;32m   (...)\u001b[0m\n\u001b[1;32m   1185\u001b[0m     \u001b[39m*\u001b[39m\u001b[39m*\u001b[39mkwargs,\n\u001b[1;32m   1186\u001b[0m ) \u001b[39m-\u001b[39m\u001b[39m>\u001b[39m List[Batch]:\n\u001b[1;32m   1187\u001b[0m     \u001b[39m\"\"\"Get the list of zero or more batches, based on a variety of flexible input types.\u001b[39;00m\n\u001b[1;32m   1188\u001b[0m \u001b[39m    This method applies only to the new (V3) Datasource schema.\u001b[39;00m\n\u001b[1;32m   1189\u001b[0m \n\u001b[0;32m   (...)\u001b[0m\n\u001b[1;32m   1227\u001b[0m \u001b[39m    This method attempts to return any number of batches, including an empty list.\u001b[39;00m\n\u001b[1;32m   1228\u001b[0m \u001b[39m    \"\"\"\u001b[39;00m\n\u001b[0;32m-> 1229\u001b[0m     \u001b[39mreturn\u001b[39;00m \u001b[39msuper\u001b[39;49m()\u001b[39m.\u001b[39;49mget_batch_list(\n\u001b[1;32m   1230\u001b[0m         datasource_name\u001b[39m=\u001b[39;49mdatasource_name,\n\u001b[1;32m   1231\u001b[0m         data_connector_name\u001b[39m=\u001b[39;49mdata_connector_name,\n\u001b[1;32m   1232\u001b[0m         data_asset_name\u001b[39m=\u001b[39;49mdata_asset_name,\n\u001b[1;32m   1233\u001b[0m         batch_request\u001b[39m=\u001b[39;49mbatch_request,\n\u001b[1;32m   1234\u001b[0m         batch_data\u001b[39m=\u001b[39;49mbatch_data,\n\u001b[1;32m   1235\u001b[0m         data_connector_query\u001b[39m=\u001b[39;49mdata_connector_query,\n\u001b[1;32m   1236\u001b[0m         batch_identifiers\u001b[39m=\u001b[39;49mbatch_identifiers,\n\u001b[1;32m   1237\u001b[0m         limit\u001b[39m=\u001b[39;49mlimit,\n\u001b[1;32m   1238\u001b[0m         index\u001b[39m=\u001b[39;49mindex,\n\u001b[1;32m   1239\u001b[0m         custom_filter_function\u001b[39m=\u001b[39;49mcustom_filter_function,\n\u001b[1;32m   1240\u001b[0m         sampling_method\u001b[39m=\u001b[39;49msampling_method,\n\u001b[1;32m   1241\u001b[0m         sampling_kwargs\u001b[39m=\u001b[39;49msampling_kwargs,\n\u001b[1;32m   1242\u001b[0m         splitter_method\u001b[39m=\u001b[39;49msplitter_method,\n\u001b[1;32m   1243\u001b[0m         splitter_kwargs\u001b[39m=\u001b[39;49msplitter_kwargs,\n\u001b[1;32m   1244\u001b[0m         runtime_parameters\u001b[39m=\u001b[39;49mruntime_parameters,\n\u001b[1;32m   1245\u001b[0m         query\u001b[39m=\u001b[39;49mquery,\n\u001b[1;32m   1246\u001b[0m         path\u001b[39m=\u001b[39;49mpath,\n\u001b[1;32m   1247\u001b[0m         batch_filter_parameters\u001b[39m=\u001b[39;49mbatch_filter_parameters,\n\u001b[1;32m   1248\u001b[0m         batch_spec_passthrough\u001b[39m=\u001b[39;49mbatch_spec_passthrough,\n\u001b[1;32m   1249\u001b[0m         \u001b[39m*\u001b[39;49m\u001b[39m*\u001b[39;49mkwargs,\n\u001b[1;32m   1250\u001b[0m     )\n",
      "File \u001b[0;32m~/.local/lib/python3.8/site-packages/great_expectations/data_context/data_context/abstract_data_context.py:1103\u001b[0m, in \u001b[0;36mAbstractDataContext.get_batch_list\u001b[0;34m(self, datasource_name, data_connector_name, data_asset_name, batch_request, batch_data, data_connector_query, batch_identifiers, limit, index, custom_filter_function, sampling_method, sampling_kwargs, splitter_method, splitter_kwargs, runtime_parameters, query, path, batch_filter_parameters, batch_spec_passthrough, **kwargs)\u001b[0m\n\u001b[1;32m   1097\u001b[0m \u001b[39melse\u001b[39;00m:\n\u001b[1;32m   1098\u001b[0m     \u001b[39mraise\u001b[39;00m ge_exceptions\u001b[39m.\u001b[39mDatasourceError(\n\u001b[1;32m   1099\u001b[0m         datasource_name,\n\u001b[1;32m   1100\u001b[0m         \u001b[39m\"\u001b[39m\u001b[39mThe given datasource could not be retrieved from the DataContext; \u001b[39m\u001b[39m\"\u001b[39m\n\u001b[1;32m   1101\u001b[0m         \u001b[39m\"\u001b[39m\u001b[39mplease confirm that your configuration is accurate.\u001b[39m\u001b[39m\"\u001b[39m,\n\u001b[1;32m   1102\u001b[0m     )\n\u001b[0;32m-> 1103\u001b[0m \u001b[39mreturn\u001b[39;00m datasource\u001b[39m.\u001b[39;49mget_batch_list_from_batch_request(batch_request\u001b[39m=\u001b[39;49mbatch_request)\n",
      "File \u001b[0;32m~/.local/lib/python3.8/site-packages/great_expectations/datasource/new_datasource.py:152\u001b[0m, in \u001b[0;36mBaseDatasource.get_batch_list_from_batch_request\u001b[0;34m(self, batch_request)\u001b[0m\n\u001b[1;32m    144\u001b[0m \u001b[39mself\u001b[39m\u001b[39m.\u001b[39m_validate_batch_request(batch_request\u001b[39m=\u001b[39mbatch_request)\n\u001b[1;32m    146\u001b[0m data_connector: DataConnector \u001b[39m=\u001b[39m \u001b[39mself\u001b[39m\u001b[39m.\u001b[39mdata_connectors[\n\u001b[1;32m    147\u001b[0m     batch_request\u001b[39m.\u001b[39mdata_connector_name\n\u001b[1;32m    148\u001b[0m ]\n\u001b[1;32m    150\u001b[0m batch_definition_list: List[\n\u001b[1;32m    151\u001b[0m     BatchDefinition\n\u001b[0;32m--> 152\u001b[0m ] \u001b[39m=\u001b[39m data_connector\u001b[39m.\u001b[39;49mget_batch_definition_list_from_batch_request(\n\u001b[1;32m    153\u001b[0m     batch_request\u001b[39m=\u001b[39;49mbatch_request\n\u001b[1;32m    154\u001b[0m )\n\u001b[1;32m    156\u001b[0m \u001b[39mif\u001b[39;00m \u001b[39misinstance\u001b[39m(batch_request, RuntimeBatchRequest):\n\u001b[1;32m    157\u001b[0m     \u001b[39m# This is a runtime batch_request\u001b[39;00m\n\u001b[1;32m    159\u001b[0m     \u001b[39mif\u001b[39;00m \u001b[39mlen\u001b[39m(batch_definition_list) \u001b[39m!=\u001b[39m \u001b[39m1\u001b[39m:\n",
      "File \u001b[0;32m~/.local/lib/python3.8/site-packages/great_expectations/datasource/data_connector/runtime_data_connector.py:218\u001b[0m, in \u001b[0;36mRuntimeDataConnector.get_batch_definition_list_from_batch_request\u001b[0;34m(self, batch_request)\u001b[0m\n\u001b[1;32m    214\u001b[0m \u001b[39mdef\u001b[39;00m \u001b[39mget_batch_definition_list_from_batch_request\u001b[39m(  \u001b[39m# type: ignore[override] # BatchRequestBase\u001b[39;00m\n\u001b[1;32m    215\u001b[0m     \u001b[39mself\u001b[39m,\n\u001b[1;32m    216\u001b[0m     batch_request: RuntimeBatchRequest,\n\u001b[1;32m    217\u001b[0m ) \u001b[39m-\u001b[39m\u001b[39m>\u001b[39m List[BatchDefinition]:\n\u001b[0;32m--> 218\u001b[0m     \u001b[39mreturn\u001b[39;00m \u001b[39mself\u001b[39;49m\u001b[39m.\u001b[39;49m_get_batch_definition_list_from_batch_request(\n\u001b[1;32m    219\u001b[0m         batch_request\u001b[39m=\u001b[39;49mbatch_request\n\u001b[1;32m    220\u001b[0m     )\n",
      "File \u001b[0;32m~/.local/lib/python3.8/site-packages/great_expectations/datasource/data_connector/runtime_data_connector.py:256\u001b[0m, in \u001b[0;36mRuntimeDataConnector._get_batch_definition_list_from_batch_request\u001b[0;34m(self, batch_request)\u001b[0m\n\u001b[1;32m    247\u001b[0m     ge_exceptions\u001b[39m.\u001b[39mDataConnectorError(\n\u001b[1;32m    248\u001b[0m         \u001b[39m\"\u001b[39m\u001b[39mPassed in a RuntimeBatchRequest with no batch_identifiers\u001b[39m\u001b[39m\"\u001b[39m\n\u001b[1;32m    249\u001b[0m     )\n\u001b[1;32m    251\u001b[0m batch_definition_list: List[BatchDefinition]\n\u001b[1;32m    252\u001b[0m batch_definition \u001b[39m=\u001b[39m BatchDefinition(\n\u001b[1;32m    253\u001b[0m     datasource_name\u001b[39m=\u001b[39m\u001b[39mself\u001b[39m\u001b[39m.\u001b[39mdatasource_name,\n\u001b[1;32m    254\u001b[0m     data_connector_name\u001b[39m=\u001b[39m\u001b[39mself\u001b[39m\u001b[39m.\u001b[39mname,\n\u001b[1;32m    255\u001b[0m     data_asset_name\u001b[39m=\u001b[39mbatch_request\u001b[39m.\u001b[39mdata_asset_name,\n\u001b[0;32m--> 256\u001b[0m     batch_identifiers\u001b[39m=\u001b[39mIDDict(batch_identifiers),  \u001b[39m# type: ignore[arg-type]\u001b[39;00m\n\u001b[1;32m    257\u001b[0m     batch_spec_passthrough\u001b[39m=\u001b[39mbatch_request\u001b[39m.\u001b[39mbatch_spec_passthrough,\n\u001b[1;32m    258\u001b[0m )\n\u001b[1;32m    259\u001b[0m batch_definition_list \u001b[39m=\u001b[39m [batch_definition]\n\u001b[1;32m    260\u001b[0m \u001b[39mself\u001b[39m\u001b[39m.\u001b[39m_update_data_references_cache(\n\u001b[1;32m    261\u001b[0m     batch_request\u001b[39m.\u001b[39mdata_asset_name,\n\u001b[1;32m    262\u001b[0m     batch_definition_list,\n\u001b[1;32m    263\u001b[0m     IDDict(batch_identifiers),  \u001b[39m# type: ignore[arg-type]\u001b[39;00m\n\u001b[1;32m    264\u001b[0m )\n",
      "\u001b[0;31mTypeError\u001b[0m: 'NoneType' object is not iterable"
     ]
    }
   ],
   "source": [
    "validator = context.get_validator(\n",
    "    batch_request=BatchRequest(**batch_request),\n",
    "    expectation_suite_name=expectation_suite_name\n",
    ")\n",
    "\n",
    "validator.head()"
   ]
  }
 ],
 "metadata": {
  "kernelspec": {
   "display_name": "Python 3.8.10 64-bit",
   "language": "python",
   "name": "python3"
  },
  "language_info": {
   "codemirror_mode": {
    "name": "ipython",
    "version": 3
   },
   "file_extension": ".py",
   "mimetype": "text/x-python",
   "name": "python",
   "nbconvert_exporter": "python",
   "pygments_lexer": "ipython3",
   "version": "3.8.10"
  },
  "vscode": {
   "interpreter": {
    "hash": "916dbcbb3f70747c44a77c7bcd40155683ae19c65e1c03b4aa3499c5328201f1"
   }
  }
 },
 "nbformat": 4,
 "nbformat_minor": 0
}
