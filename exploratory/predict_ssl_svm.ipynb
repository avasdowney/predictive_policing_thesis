{
 "cells": [
  {
   "cell_type": "code",
   "execution_count": 1,
   "metadata": {},
   "outputs": [],
   "source": [
    "import pandas as pd\n",
    "import numpy as np\n",
    "import matplotlib.pyplot as plt\n",
    "import seaborn as sns\n",
    "\n",
    "from sklearn.model_selection import train_test_split\n",
    "from sklearn import svm\n",
    "from sklearn import metrics\n",
    "from sklearn.metrics import classification_report, precision_score, recall_score, accuracy_score, f1_score\n",
    "\n",
    "\n",
    "np.random.seed(1)"
   ]
  },
  {
   "cell_type": "code",
   "execution_count": 2,
   "metadata": {},
   "outputs": [
    {
     "data": {
      "text/html": [
       "<div>\n",
       "<style scoped>\n",
       "    .dataframe tbody tr th:only-of-type {\n",
       "        vertical-align: middle;\n",
       "    }\n",
       "\n",
       "    .dataframe tbody tr th {\n",
       "        vertical-align: top;\n",
       "    }\n",
       "\n",
       "    .dataframe thead th {\n",
       "        text-align: right;\n",
       "    }\n",
       "</style>\n",
       "<table border=\"1\" class=\"dataframe\">\n",
       "  <thead>\n",
       "    <tr style=\"text-align: right;\">\n",
       "      <th></th>\n",
       "      <th>SSL SCORE</th>\n",
       "      <th>PREDICTOR RAT VICTIM SHOOTING INCIDENTS</th>\n",
       "      <th>PREDICTOR RAT VICTIM BATTERY OR ASSAULT</th>\n",
       "      <th>PREDICTOR RAT ARRESTS VIOLENT OFFENSES</th>\n",
       "      <th>PREDICTOR RAT GANG AFFILIATION</th>\n",
       "      <th>PREDICTOR RAT NARCOTIC ARRESTS</th>\n",
       "      <th>PREDICTOR RAT TREND IN CRIMINAL ACTIVITY</th>\n",
       "      <th>PREDICTOR RAT UUW ARRESTS</th>\n",
       "      <th>PREDICTOR RAT AGE AT LATEST ARREST_20-30</th>\n",
       "      <th>PREDICTOR RAT AGE AT LATEST ARREST_30-40</th>\n",
       "      <th>PREDICTOR RAT AGE AT LATEST ARREST_40-50</th>\n",
       "      <th>PREDICTOR RAT AGE AT LATEST ARREST_50-60</th>\n",
       "      <th>PREDICTOR RAT AGE AT LATEST ARREST_60-70</th>\n",
       "      <th>PREDICTOR RAT AGE AT LATEST ARREST_70-80</th>\n",
       "      <th>PREDICTOR RAT AGE AT LATEST ARREST_less than 20</th>\n",
       "    </tr>\n",
       "  </thead>\n",
       "  <tbody>\n",
       "    <tr>\n",
       "      <th>count</th>\n",
       "      <td>398684.000000</td>\n",
       "      <td>398684.000000</td>\n",
       "      <td>398684.000000</td>\n",
       "      <td>398684.000000</td>\n",
       "      <td>398684.000000</td>\n",
       "      <td>398684.000000</td>\n",
       "      <td>398684.000000</td>\n",
       "      <td>398684.000000</td>\n",
       "      <td>398684.000000</td>\n",
       "      <td>398684.000000</td>\n",
       "      <td>398684.000000</td>\n",
       "      <td>398684.000000</td>\n",
       "      <td>398684.000000</td>\n",
       "      <td>398684.000000</td>\n",
       "      <td>398684.000000</td>\n",
       "    </tr>\n",
       "    <tr>\n",
       "      <th>mean</th>\n",
       "      <td>0.720882</td>\n",
       "      <td>0.020227</td>\n",
       "      <td>0.035916</td>\n",
       "      <td>0.114988</td>\n",
       "      <td>0.162903</td>\n",
       "      <td>0.335752</td>\n",
       "      <td>-0.049534</td>\n",
       "      <td>0.033297</td>\n",
       "      <td>0.352051</td>\n",
       "      <td>0.223648</td>\n",
       "      <td>0.148193</td>\n",
       "      <td>0.086605</td>\n",
       "      <td>0.019625</td>\n",
       "      <td>0.002496</td>\n",
       "      <td>0.167127</td>\n",
       "    </tr>\n",
       "    <tr>\n",
       "      <th>std</th>\n",
       "      <td>0.448566</td>\n",
       "      <td>0.152919</td>\n",
       "      <td>0.210601</td>\n",
       "      <td>0.405583</td>\n",
       "      <td>0.369278</td>\n",
       "      <td>0.837828</td>\n",
       "      <td>0.404900</td>\n",
       "      <td>0.193237</td>\n",
       "      <td>0.477610</td>\n",
       "      <td>0.416690</td>\n",
       "      <td>0.355291</td>\n",
       "      <td>0.281256</td>\n",
       "      <td>0.138706</td>\n",
       "      <td>0.049895</td>\n",
       "      <td>0.373090</td>\n",
       "    </tr>\n",
       "    <tr>\n",
       "      <th>min</th>\n",
       "      <td>0.000000</td>\n",
       "      <td>0.000000</td>\n",
       "      <td>0.000000</td>\n",
       "      <td>0.000000</td>\n",
       "      <td>0.000000</td>\n",
       "      <td>0.000000</td>\n",
       "      <td>-8.200000</td>\n",
       "      <td>0.000000</td>\n",
       "      <td>0.000000</td>\n",
       "      <td>0.000000</td>\n",
       "      <td>0.000000</td>\n",
       "      <td>0.000000</td>\n",
       "      <td>0.000000</td>\n",
       "      <td>0.000000</td>\n",
       "      <td>0.000000</td>\n",
       "    </tr>\n",
       "    <tr>\n",
       "      <th>25%</th>\n",
       "      <td>0.000000</td>\n",
       "      <td>0.000000</td>\n",
       "      <td>0.000000</td>\n",
       "      <td>0.000000</td>\n",
       "      <td>0.000000</td>\n",
       "      <td>0.000000</td>\n",
       "      <td>-0.300000</td>\n",
       "      <td>0.000000</td>\n",
       "      <td>0.000000</td>\n",
       "      <td>0.000000</td>\n",
       "      <td>0.000000</td>\n",
       "      <td>0.000000</td>\n",
       "      <td>0.000000</td>\n",
       "      <td>0.000000</td>\n",
       "      <td>0.000000</td>\n",
       "    </tr>\n",
       "    <tr>\n",
       "      <th>50%</th>\n",
       "      <td>1.000000</td>\n",
       "      <td>0.000000</td>\n",
       "      <td>0.000000</td>\n",
       "      <td>0.000000</td>\n",
       "      <td>0.000000</td>\n",
       "      <td>0.000000</td>\n",
       "      <td>-0.100000</td>\n",
       "      <td>0.000000</td>\n",
       "      <td>0.000000</td>\n",
       "      <td>0.000000</td>\n",
       "      <td>0.000000</td>\n",
       "      <td>0.000000</td>\n",
       "      <td>0.000000</td>\n",
       "      <td>0.000000</td>\n",
       "      <td>0.000000</td>\n",
       "    </tr>\n",
       "    <tr>\n",
       "      <th>75%</th>\n",
       "      <td>1.000000</td>\n",
       "      <td>0.000000</td>\n",
       "      <td>0.000000</td>\n",
       "      <td>0.000000</td>\n",
       "      <td>0.000000</td>\n",
       "      <td>0.000000</td>\n",
       "      <td>0.200000</td>\n",
       "      <td>0.000000</td>\n",
       "      <td>1.000000</td>\n",
       "      <td>0.000000</td>\n",
       "      <td>0.000000</td>\n",
       "      <td>0.000000</td>\n",
       "      <td>0.000000</td>\n",
       "      <td>0.000000</td>\n",
       "      <td>0.000000</td>\n",
       "    </tr>\n",
       "    <tr>\n",
       "      <th>max</th>\n",
       "      <td>1.000000</td>\n",
       "      <td>4.000000</td>\n",
       "      <td>10.000000</td>\n",
       "      <td>12.000000</td>\n",
       "      <td>1.000000</td>\n",
       "      <td>29.000000</td>\n",
       "      <td>7.300000</td>\n",
       "      <td>4.000000</td>\n",
       "      <td>1.000000</td>\n",
       "      <td>1.000000</td>\n",
       "      <td>1.000000</td>\n",
       "      <td>1.000000</td>\n",
       "      <td>1.000000</td>\n",
       "      <td>1.000000</td>\n",
       "      <td>1.000000</td>\n",
       "    </tr>\n",
       "  </tbody>\n",
       "</table>\n",
       "</div>"
      ],
      "text/plain": [
       "           SSL SCORE  PREDICTOR RAT VICTIM SHOOTING INCIDENTS  \\\n",
       "count  398684.000000                            398684.000000   \n",
       "mean        0.720882                                 0.020227   \n",
       "std         0.448566                                 0.152919   \n",
       "min         0.000000                                 0.000000   \n",
       "25%         0.000000                                 0.000000   \n",
       "50%         1.000000                                 0.000000   \n",
       "75%         1.000000                                 0.000000   \n",
       "max         1.000000                                 4.000000   \n",
       "\n",
       "       PREDICTOR RAT VICTIM BATTERY OR ASSAULT  \\\n",
       "count                            398684.000000   \n",
       "mean                                  0.035916   \n",
       "std                                   0.210601   \n",
       "min                                   0.000000   \n",
       "25%                                   0.000000   \n",
       "50%                                   0.000000   \n",
       "75%                                   0.000000   \n",
       "max                                  10.000000   \n",
       "\n",
       "       PREDICTOR RAT ARRESTS VIOLENT OFFENSES  PREDICTOR RAT GANG AFFILIATION  \\\n",
       "count                           398684.000000                   398684.000000   \n",
       "mean                                 0.114988                        0.162903   \n",
       "std                                  0.405583                        0.369278   \n",
       "min                                  0.000000                        0.000000   \n",
       "25%                                  0.000000                        0.000000   \n",
       "50%                                  0.000000                        0.000000   \n",
       "75%                                  0.000000                        0.000000   \n",
       "max                                 12.000000                        1.000000   \n",
       "\n",
       "       PREDICTOR RAT NARCOTIC ARRESTS  \\\n",
       "count                   398684.000000   \n",
       "mean                         0.335752   \n",
       "std                          0.837828   \n",
       "min                          0.000000   \n",
       "25%                          0.000000   \n",
       "50%                          0.000000   \n",
       "75%                          0.000000   \n",
       "max                         29.000000   \n",
       "\n",
       "       PREDICTOR RAT TREND IN CRIMINAL ACTIVITY  PREDICTOR RAT UUW ARRESTS  \\\n",
       "count                             398684.000000              398684.000000   \n",
       "mean                                  -0.049534                   0.033297   \n",
       "std                                    0.404900                   0.193237   \n",
       "min                                   -8.200000                   0.000000   \n",
       "25%                                   -0.300000                   0.000000   \n",
       "50%                                   -0.100000                   0.000000   \n",
       "75%                                    0.200000                   0.000000   \n",
       "max                                    7.300000                   4.000000   \n",
       "\n",
       "       PREDICTOR RAT AGE AT LATEST ARREST_20-30  \\\n",
       "count                             398684.000000   \n",
       "mean                                   0.352051   \n",
       "std                                    0.477610   \n",
       "min                                    0.000000   \n",
       "25%                                    0.000000   \n",
       "50%                                    0.000000   \n",
       "75%                                    1.000000   \n",
       "max                                    1.000000   \n",
       "\n",
       "       PREDICTOR RAT AGE AT LATEST ARREST_30-40  \\\n",
       "count                             398684.000000   \n",
       "mean                                   0.223648   \n",
       "std                                    0.416690   \n",
       "min                                    0.000000   \n",
       "25%                                    0.000000   \n",
       "50%                                    0.000000   \n",
       "75%                                    0.000000   \n",
       "max                                    1.000000   \n",
       "\n",
       "       PREDICTOR RAT AGE AT LATEST ARREST_40-50  \\\n",
       "count                             398684.000000   \n",
       "mean                                   0.148193   \n",
       "std                                    0.355291   \n",
       "min                                    0.000000   \n",
       "25%                                    0.000000   \n",
       "50%                                    0.000000   \n",
       "75%                                    0.000000   \n",
       "max                                    1.000000   \n",
       "\n",
       "       PREDICTOR RAT AGE AT LATEST ARREST_50-60  \\\n",
       "count                             398684.000000   \n",
       "mean                                   0.086605   \n",
       "std                                    0.281256   \n",
       "min                                    0.000000   \n",
       "25%                                    0.000000   \n",
       "50%                                    0.000000   \n",
       "75%                                    0.000000   \n",
       "max                                    1.000000   \n",
       "\n",
       "       PREDICTOR RAT AGE AT LATEST ARREST_60-70  \\\n",
       "count                             398684.000000   \n",
       "mean                                   0.019625   \n",
       "std                                    0.138706   \n",
       "min                                    0.000000   \n",
       "25%                                    0.000000   \n",
       "50%                                    0.000000   \n",
       "75%                                    0.000000   \n",
       "max                                    1.000000   \n",
       "\n",
       "       PREDICTOR RAT AGE AT LATEST ARREST_70-80  \\\n",
       "count                             398684.000000   \n",
       "mean                                   0.002496   \n",
       "std                                    0.049895   \n",
       "min                                    0.000000   \n",
       "25%                                    0.000000   \n",
       "50%                                    0.000000   \n",
       "75%                                    0.000000   \n",
       "max                                    1.000000   \n",
       "\n",
       "       PREDICTOR RAT AGE AT LATEST ARREST_less than 20  \n",
       "count                                    398684.000000  \n",
       "mean                                          0.167127  \n",
       "std                                           0.373090  \n",
       "min                                           0.000000  \n",
       "25%                                           0.000000  \n",
       "50%                                           0.000000  \n",
       "75%                                           0.000000  \n",
       "max                                           1.000000  "
      ]
     },
     "execution_count": 2,
     "metadata": {},
     "output_type": "execute_result"
    }
   ],
   "source": [
    "# read data\n",
    "df = pd.read_csv('../data/preprocessed_models_data.csv')\n",
    "df.describe()"
   ]
  },
  {
   "cell_type": "code",
   "execution_count": 3,
   "metadata": {},
   "outputs": [],
   "source": [
    "# Labels are the values we want to predict\n",
    "labels = np.array(df['SSL SCORE']) # Y\n",
    "df = df.drop('SSL SCORE', axis = 1)\n",
    "x_list = list(df.columns) # X\n",
    "# Convert to numpy array\n",
    "df = np.array(df)"
   ]
  },
  {
   "cell_type": "code",
   "execution_count": 4,
   "metadata": {},
   "outputs": [],
   "source": [
    "X_train, X_test, y_train, y_test = train_test_split(df, labels, test_size = 0.25, random_state = 42)"
   ]
  },
  {
   "attachments": {},
   "cell_type": "markdown",
   "metadata": {},
   "source": [
    "# Linear Support Vector Machine"
   ]
  },
  {
   "cell_type": "code",
   "execution_count": 5,
   "metadata": {},
   "outputs": [],
   "source": [
    "clf = svm.SVC(kernel='linear') # Linear Kernel\n",
    "clf.fit(X_train, y_train)\n",
    "y_pred = clf.predict(X_test)"
   ]
  },
  {
   "cell_type": "code",
   "execution_count": 6,
   "metadata": {},
   "outputs": [
    {
     "data": {
      "text/plain": [
       "Text(0.5, 427.9555555555555, 'Predicted label')"
      ]
     },
     "execution_count": 6,
     "metadata": {},
     "output_type": "execute_result"
    },
    {
     "data": {
      "image/png": "[encoded data removed]",
      "text/plain": [
       "<Figure size 640x480 with 2 Axes>"
      ]
     },
     "metadata": {},
     "output_type": "display_data"
    }
   ],
   "source": [
    "cnf_matrix = metrics.confusion_matrix(y_test, y_pred)\n",
    "class_names=[0,1] # name  of classes\n",
    "fig, ax = plt.subplots()\n",
    "tick_marks = np.arange(len(class_names))\n",
    "plt.xticks(tick_marks, class_names)\n",
    "plt.yticks(tick_marks, class_names)\n",
    "# create heatmap\n",
    "sns.heatmap(pd.DataFrame(cnf_matrix), annot=True, cmap=\"YlGnBu\" ,fmt='g')\n",
    "ax.xaxis.set_label_position(\"top\")\n",
    "plt.tight_layout()\n",
    "plt.title('Confusion matrix', y=1.1)\n",
    "plt.ylabel('Actual label')\n",
    "plt.xlabel('Predicted label')"
   ]
  },
  {
   "cell_type": "code",
   "execution_count": 7,
   "metadata": {},
   "outputs": [
    {
     "name": "stdout",
     "output_type": "stream",
     "text": [
      "                precision    recall  f1-score   support\n",
      "\n",
      " LOW SSL SCORE       0.98      0.89      0.94     28020\n",
      "HIGH SSL SCORE       0.96      0.99      0.98     71651\n",
      "\n",
      "      accuracy                           0.97     99671\n",
      "     macro avg       0.97      0.94      0.96     99671\n",
      "  weighted avg       0.97      0.97      0.97     99671\n",
      "\n"
     ]
    }
   ],
   "source": [
    "target_names = ['LOW SSL SCORE', 'HIGH SSL SCORE']\n",
    "print(classification_report(y_test, y_pred, target_names=target_names))"
   ]
  },
  {
   "cell_type": "code",
   "execution_count": 8,
   "metadata": {},
   "outputs": [
    {
     "name": "stdout",
     "output_type": "stream",
     "text": [
      "Accuracy: 0.9661\n",
      "Precision: 0.9600\n",
      "Recall: 0.9943\n",
      "F1 Score: 0.9769\n"
     ]
    }
   ],
   "source": [
    "print('Accuracy: %.4f' % accuracy_score(y_test, y_pred))\n",
    "print('Precision: %.4f' % precision_score(y_test, y_pred))\n",
    "print('Recall: %.4f' % recall_score(y_test, y_pred))\n",
    "print('F1 Score: %.4f' % f1_score(y_test, y_pred))"
   ]
  },
  {
   "attachments": {},
   "cell_type": "markdown",
   "metadata": {},
   "source": [
    "# RBF Support Vector Machine"
   ]
  },
  {
   "cell_type": "code",
   "execution_count": 9,
   "metadata": {},
   "outputs": [],
   "source": [
    "clf = svm.SVC(kernel='rbf') # Linear Kernel\n",
    "clf.fit(X_train, y_train)\n",
    "y_pred = clf.predict(X_test)"
   ]
  },
  {
   "cell_type": "code",
   "execution_count": 10,
   "metadata": {},
   "outputs": [
    {
     "data": {
      "text/plain": [
       "Text(0.5, 427.9555555555555, 'Predicted label')"
      ]
     },
     "execution_count": 10,
     "metadata": {},
     "output_type": "execute_result"
    },
    {
     "data": {
      "image/png": "[encoded data removed]",
      "text/plain": [
       "<Figure size 640x480 with 2 Axes>"
      ]
     },
     "metadata": {},
     "output_type": "display_data"
    }
   ],
   "source": [
    "cnf_matrix = metrics.confusion_matrix(y_test, y_pred)\n",
    "class_names=[0,1] # name  of classes\n",
    "fig, ax = plt.subplots()\n",
    "tick_marks = np.arange(len(class_names))\n",
    "plt.xticks(tick_marks, class_names)\n",
    "plt.yticks(tick_marks, class_names)\n",
    "# create heatmap\n",
    "sns.heatmap(pd.DataFrame(cnf_matrix), annot=True, cmap=\"YlGnBu\" ,fmt='g')\n",
    "ax.xaxis.set_label_position(\"top\")\n",
    "plt.tight_layout()\n",
    "plt.title('Confusion matrix', y=1.1)\n",
    "plt.ylabel('Actual label')\n",
    "plt.xlabel('Predicted label')"
   ]
  },
  {
   "cell_type": "code",
   "execution_count": 11,
   "metadata": {},
   "outputs": [
    {
     "name": "stdout",
     "output_type": "stream",
     "text": [
      "                precision    recall  f1-score   support\n",
      "\n",
      " LOW SSL SCORE       0.99      0.89      0.94     28020\n",
      "HIGH SSL SCORE       0.96      1.00      0.98     71651\n",
      "\n",
      "      accuracy                           0.97     99671\n",
      "     macro avg       0.97      0.94      0.96     99671\n",
      "  weighted avg       0.97      0.97      0.97     99671\n",
      "\n"
     ]
    }
   ],
   "source": [
    "target_names = ['LOW SSL SCORE', 'HIGH SSL SCORE']\n",
    "print(classification_report(y_test, y_pred, target_names=target_names))"
   ]
  },
  {
   "cell_type": "code",
   "execution_count": 13,
   "metadata": {},
   "outputs": [
    {
     "name": "stdout",
     "output_type": "stream",
     "text": [
      "Accuracy: 0.9666\n",
      "Precision: 0.9598\n",
      "Recall: 0.9952\n",
      "F1 Score: 0.9772\n"
     ]
    }
   ],
   "source": [
    "print('Accuracy: %.4f' % accuracy_score(y_test, y_pred))\n",
    "print('Precision: %.4f' % precision_score(y_test, y_pred))\n",
    "print('Recall: %.4f' % recall_score(y_test, y_pred))\n",
    "print('F1 Score: %.4f' % f1_score(y_test, y_pred))"
   ]
  }
 ],
 "metadata": {
  "kernelspec": {
   "display_name": "Python 3.8.10 64-bit",
   "language": "python",
   "name": "python3"
  },
  "language_info": {
   "codemirror_mode": {
    "name": "ipython",
    "version": 3
   },
   "file_extension": ".py",
   "mimetype": "text/x-python",
   "name": "python",
   "nbconvert_exporter": "python",
   "pygments_lexer": "ipython3",
   "version": "3.8.10"
  },
  "orig_nbformat": 4,
  "vscode": {
   "interpreter": {
    "hash": "916dbcbb3f70747c44a77c7bcd40155683ae19c65e1c03b4aa3499c5328201f1"
   }
  }
 },
 "nbformat": 4,
 "nbformat_minor": 2
}
