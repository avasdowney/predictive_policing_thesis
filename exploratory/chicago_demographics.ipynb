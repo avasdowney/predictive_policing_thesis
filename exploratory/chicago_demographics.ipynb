{
 "cells": [
  {
   "cell_type": "code",
   "execution_count": 86,
   "metadata": {},
   "outputs": [],
   "source": [
    "import pandas as pd\n",
    "import censusdata"
   ]
  },
  {
   "cell_type": "code",
   "execution_count": 87,
   "metadata": {},
   "outputs": [
    {
     "name": "stdout",
     "output_type": "stream",
     "text": [
      "Variable     | Table                          | Label                                                    | Type \n",
      "-------------------------------------------------------------------------------------------------------------------\n",
      "B23025_001E  | EMPLOYMENT STATUS FOR THE POPU | !! Estimate Total                                        | int  \n",
      "B23025_002E  | EMPLOYMENT STATUS FOR THE POPU | !! !! Estimate Total In labor force                      | int  \n",
      "B23025_003E  | EMPLOYMENT STATUS FOR THE POPU | !! !! !! Estimate Total In labor force Civilian labor fo | int  \n",
      "B23025_004E  | EMPLOYMENT STATUS FOR THE POPU | !! !! !! !! Estimate Total In labor force Civilian labor | int  \n",
      "B23025_005E  | EMPLOYMENT STATUS FOR THE POPU | !! !! !! !! Estimate Total In labor force Civilian labor | int  \n",
      "B23025_006E  | EMPLOYMENT STATUS FOR THE POPU | !! !! !! Estimate Total In labor force Armed Forces      | int  \n",
      "B23025_007E  | EMPLOYMENT STATUS FOR THE POPU | !! !! Estimate Total Not in labor force                  | int  \n",
      "-------------------------------------------------------------------------------------------------------------------\n"
     ]
    }
   ],
   "source": [
    "censusdata.printtable(censusdata.censustable('acs5', 2016, 'B23025'))"
   ]
  },
  {
   "cell_type": "code",
   "execution_count": 88,
   "metadata": {},
   "outputs": [],
   "source": [
    "states = censusdata.geographies(censusdata.censusgeo([('state', '*')]), 'acs5', 2016)"
   ]
  },
  {
   "cell_type": "code",
   "execution_count": 89,
   "metadata": {},
   "outputs": [
    {
     "name": "stdout",
     "output_type": "stream",
     "text": [
      "Summary level: 040, state:17\n"
     ]
    }
   ],
   "source": [
    "print(states['Illinois'])"
   ]
  },
  {
   "cell_type": "code",
   "execution_count": 90,
   "metadata": {},
   "outputs": [
    {
     "name": "stdout",
     "output_type": "stream",
     "text": [
      "{'Hancock County, Illinois': censusgeo((('state', '17'), ('county', '067'))), 'Grundy County, Illinois': censusgeo((('state', '17'), ('county', '063'))), 'Kankakee County, Illinois': censusgeo((('state', '17'), ('county', '091'))), 'DuPage County, Illinois': censusgeo((('state', '17'), ('county', '043'))), 'Alexander County, Illinois': censusgeo((('state', '17'), ('county', '003'))), 'Menard County, Illinois': censusgeo((('state', '17'), ('county', '129'))), 'LaSalle County, Illinois': censusgeo((('state', '17'), ('county', '099'))), 'Cook County, Illinois': censusgeo((('state', '17'), ('county', '031'))), 'Macon County, Illinois': censusgeo((('state', '17'), ('county', '115'))), 'Morgan County, Illinois': censusgeo((('state', '17'), ('county', '137'))), 'Wayne County, Illinois': censusgeo((('state', '17'), ('county', '191'))), 'McHenry County, Illinois': censusgeo((('state', '17'), ('county', '111'))), 'Woodford County, Illinois': censusgeo((('state', '17'), ('county', '203'))), 'Franklin County, Illinois': censusgeo((('state', '17'), ('county', '055'))), 'McDonough County, Illinois': censusgeo((('state', '17'), ('county', '109'))), 'Moultrie County, Illinois': censusgeo((('state', '17'), ('county', '139'))), 'Perry County, Illinois': censusgeo((('state', '17'), ('county', '145'))), 'Pope County, Illinois': censusgeo((('state', '17'), ('county', '151'))), 'St. Clair County, Illinois': censusgeo((('state', '17'), ('county', '163'))), 'Shelby County, Illinois': censusgeo((('state', '17'), ('county', '173'))), 'Champaign County, Illinois': censusgeo((('state', '17'), ('county', '019'))), 'Calhoun County, Illinois': censusgeo((('state', '17'), ('county', '013'))), 'Ford County, Illinois': censusgeo((('state', '17'), ('county', '053'))), 'Jo Daviess County, Illinois': censusgeo((('state', '17'), ('county', '085'))), 'Kendall County, Illinois': censusgeo((('state', '17'), ('county', '093'))), 'Lawrence County, Illinois': censusgeo((('state', '17'), ('county', '101'))), 'Marion County, Illinois': censusgeo((('state', '17'), ('county', '121'))), 'Mason County, Illinois': censusgeo((('state', '17'), ('county', '125'))), 'Iroquois County, Illinois': censusgeo((('state', '17'), ('county', '075'))), 'Clay County, Illinois': censusgeo((('state', '17'), ('county', '025'))), 'Gallatin County, Illinois': censusgeo((('state', '17'), ('county', '059'))), 'Monroe County, Illinois': censusgeo((('state', '17'), ('county', '133'))), 'Peoria County, Illinois': censusgeo((('state', '17'), ('county', '143'))), 'Madison County, Illinois': censusgeo((('state', '17'), ('county', '119'))), 'Mercer County, Illinois': censusgeo((('state', '17'), ('county', '131'))), 'Sangamon County, Illinois': censusgeo((('state', '17'), ('county', '167'))), 'Randolph County, Illinois': censusgeo((('state', '17'), ('county', '157'))), 'Ogle County, Illinois': censusgeo((('state', '17'), ('county', '141'))), 'Stephenson County, Illinois': censusgeo((('state', '17'), ('county', '177'))), 'White County, Illinois': censusgeo((('state', '17'), ('county', '193'))), 'Henderson County, Illinois': censusgeo((('state', '17'), ('county', '071'))), 'McLean County, Illinois': censusgeo((('state', '17'), ('county', '113'))), 'Pike County, Illinois': censusgeo((('state', '17'), ('county', '149'))), 'Rock Island County, Illinois': censusgeo((('state', '17'), ('county', '161'))), 'Wabash County, Illinois': censusgeo((('state', '17'), ('county', '185'))), 'Cumberland County, Illinois': censusgeo((('state', '17'), ('county', '035'))), 'Kane County, Illinois': censusgeo((('state', '17'), ('county', '089'))), 'Brown County, Illinois': censusgeo((('state', '17'), ('county', '009'))), 'Marshall County, Illinois': censusgeo((('state', '17'), ('county', '123'))), 'Christian County, Illinois': censusgeo((('state', '17'), ('county', '021'))), 'Jackson County, Illinois': censusgeo((('state', '17'), ('county', '077'))), 'Union County, Illinois': censusgeo((('state', '17'), ('county', '181'))), 'Saline County, Illinois': censusgeo((('state', '17'), ('county', '165'))), 'Whiteside County, Illinois': censusgeo((('state', '17'), ('county', '195'))), 'DeKalb County, Illinois': censusgeo((('state', '17'), ('county', '037'))), 'Jasper County, Illinois': censusgeo((('state', '17'), ('county', '079'))), 'Will County, Illinois': censusgeo((('state', '17'), ('county', '197'))), 'Douglas County, Illinois': censusgeo((('state', '17'), ('county', '041'))), 'Greene County, Illinois': censusgeo((('state', '17'), ('county', '061'))), 'Hardin County, Illinois': censusgeo((('state', '17'), ('county', '069'))), 'Knox County, Illinois': censusgeo((('state', '17'), ('county', '095'))), 'Massac County, Illinois': censusgeo((('state', '17'), ('county', '127'))), 'Tazewell County, Illinois': censusgeo((('state', '17'), ('county', '179'))), 'Winnebago County, Illinois': censusgeo((('state', '17'), ('county', '201'))), 'Piatt County, Illinois': censusgeo((('state', '17'), ('county', '147'))), 'Pulaski County, Illinois': censusgeo((('state', '17'), ('county', '153'))), 'Schuyler County, Illinois': censusgeo((('state', '17'), ('county', '169'))), 'Stark County, Illinois': censusgeo((('state', '17'), ('county', '175'))), 'Edgar County, Illinois': censusgeo((('state', '17'), ('county', '045'))), 'Bond County, Illinois': censusgeo((('state', '17'), ('county', '005'))), 'Boone County, Illinois': censusgeo((('state', '17'), ('county', '007'))), 'Bureau County, Illinois': censusgeo((('state', '17'), ('county', '011'))), 'Carroll County, Illinois': censusgeo((('state', '17'), ('county', '015'))), 'Coles County, Illinois': censusgeo((('state', '17'), ('county', '029'))), 'Crawford County, Illinois': censusgeo((('state', '17'), ('county', '033'))), 'Jersey County, Illinois': censusgeo((('state', '17'), ('county', '083'))), 'Putnam County, Illinois': censusgeo((('state', '17'), ('county', '155'))), 'De Witt County, Illinois': censusgeo((('state', '17'), ('county', '039'))), 'Fayette County, Illinois': censusgeo((('state', '17'), ('county', '051'))), 'Lee County, Illinois': censusgeo((('state', '17'), ('county', '103'))), 'Logan County, Illinois': censusgeo((('state', '17'), ('county', '107'))), 'Macoupin County, Illinois': censusgeo((('state', '17'), ('county', '117'))), 'Richland County, Illinois': censusgeo((('state', '17'), ('county', '159'))), 'Washington County, Illinois': censusgeo((('state', '17'), ('county', '189'))), 'Montgomery County, Illinois': censusgeo((('state', '17'), ('county', '135'))), 'Adams County, Illinois': censusgeo((('state', '17'), ('county', '001'))), 'Clinton County, Illinois': censusgeo((('state', '17'), ('county', '027'))), 'Edwards County, Illinois': censusgeo((('state', '17'), ('county', '047'))), 'Jefferson County, Illinois': censusgeo((('state', '17'), ('county', '081'))), 'Vermilion County, Illinois': censusgeo((('state', '17'), ('county', '183'))), 'Williamson County, Illinois': censusgeo((('state', '17'), ('county', '199'))), 'Clark County, Illinois': censusgeo((('state', '17'), ('county', '023'))), 'Effingham County, Illinois': censusgeo((('state', '17'), ('county', '049'))), 'Fulton County, Illinois': censusgeo((('state', '17'), ('county', '057'))), 'Hamilton County, Illinois': censusgeo((('state', '17'), ('county', '065'))), 'Henry County, Illinois': censusgeo((('state', '17'), ('county', '073'))), 'Johnson County, Illinois': censusgeo((('state', '17'), ('county', '087'))), 'Lake County, Illinois': censusgeo((('state', '17'), ('county', '097'))), 'Livingston County, Illinois': censusgeo((('state', '17'), ('county', '105'))), 'Scott County, Illinois': censusgeo((('state', '17'), ('county', '171'))), 'Cass County, Illinois': censusgeo((('state', '17'), ('county', '017'))), 'Warren County, Illinois': censusgeo((('state', '17'), ('county', '187')))}\n"
     ]
    }
   ],
   "source": [
    "counties = censusdata.geographies(censusdata.censusgeo([('state', '17'), ('county', '*')]), 'acs5', 2016)\n",
    "print(counties)"
   ]
  },
  {
   "cell_type": "code",
   "execution_count": 91,
   "metadata": {},
   "outputs": [],
   "source": [
    "data = censusdata.download('acs5', 2016,\n",
    "           censusdata.censusgeo([('state', '17'),\n",
    "                                 ('county', '031'),\n",
    "                                 ('block group', '*')]),\n",
    "          ['B23025_001E', 'B23025_002E', 'B23025_003E',\n",
    "           'B23025_004E', 'B23025_005E',\n",
    "           'B23025_006E', 'B23025_007E'])"
   ]
  },
  {
   "cell_type": "code",
   "execution_count": 92,
   "metadata": {},
   "outputs": [],
   "source": [
    "df = pd.DataFrame(data=data)"
   ]
  },
  {
   "cell_type": "code",
   "execution_count": 93,
   "metadata": {},
   "outputs": [
    {
     "name": "stdout",
     "output_type": "stream",
     "text": [
      "                                                    B23025_001E  B23025_002E  \\\n",
      "Block Group 1, Census Tract 2422, Cook County, ...         1647         1357   \n",
      "Block Group 1, Census Tract 8065.01, Cook Count...          766          530   \n",
      "Block Group 3, Census Tract 8060.03, Cook Count...         1158          735   \n",
      "Block Group 1, Census Tract 8064, Cook County, ...         1007          720   \n",
      "Block Group 2, Census Tract 8065.01, Cook Count...         1343          783   \n",
      "...                                                         ...          ...   \n",
      "Block Group 2, Census Tract 2209.02, Cook Count...         1411          956   \n",
      "Block Group 2, Census Tract 1605.01, Cook Count...         1388          978   \n",
      "Block Group 2, Census Tract 8045.09, Cook Count...         1248          856   \n",
      "Block Group 3, Census Tract 8045.07, Cook Count...         3311         2366   \n",
      "Block Group 7, Census Tract 8201.01, Cook Count...         1272          696   \n",
      "\n",
      "                                                    B23025_003E  B23025_004E  \\\n",
      "Block Group 1, Census Tract 2422, Cook County, ...         1357         1300   \n",
      "Block Group 1, Census Tract 8065.01, Cook Count...          530          453   \n",
      "Block Group 3, Census Tract 8060.03, Cook Count...          735          725   \n",
      "Block Group 1, Census Tract 8064, Cook County, ...          720          683   \n",
      "Block Group 2, Census Tract 8065.01, Cook Count...          783          746   \n",
      "...                                                         ...          ...   \n",
      "Block Group 2, Census Tract 2209.02, Cook Count...          956          857   \n",
      "Block Group 2, Census Tract 1605.01, Cook Count...          978          961   \n",
      "Block Group 2, Census Tract 8045.09, Cook Count...          856          831   \n",
      "Block Group 3, Census Tract 8045.07, Cook Count...         2366         2168   \n",
      "Block Group 7, Census Tract 8201.01, Cook Count...          696          684   \n",
      "\n",
      "                                                    B23025_005E  B23025_006E  \\\n",
      "Block Group 1, Census Tract 2422, Cook County, ...           57            0   \n",
      "Block Group 1, Census Tract 8065.01, Cook Count...           77            0   \n",
      "Block Group 3, Census Tract 8060.03, Cook Count...           10            0   \n",
      "Block Group 1, Census Tract 8064, Cook County, ...           37            0   \n",
      "Block Group 2, Census Tract 8065.01, Cook Count...           37            0   \n",
      "...                                                         ...          ...   \n",
      "Block Group 2, Census Tract 2209.02, Cook Count...           99            0   \n",
      "Block Group 2, Census Tract 1605.01, Cook Count...           17            0   \n",
      "Block Group 2, Census Tract 8045.09, Cook Count...           25            0   \n",
      "Block Group 3, Census Tract 8045.07, Cook Count...          198            0   \n",
      "Block Group 7, Census Tract 8201.01, Cook Count...           12            0   \n",
      "\n",
      "                                                    B23025_007E  \n",
      "Block Group 1, Census Tract 2422, Cook County, ...          290  \n",
      "Block Group 1, Census Tract 8065.01, Cook Count...          236  \n",
      "Block Group 3, Census Tract 8060.03, Cook Count...          423  \n",
      "Block Group 1, Census Tract 8064, Cook County, ...          287  \n",
      "Block Group 2, Census Tract 8065.01, Cook Count...          560  \n",
      "...                                                         ...  \n",
      "Block Group 2, Census Tract 2209.02, Cook Count...          455  \n",
      "Block Group 2, Census Tract 1605.01, Cook Count...          410  \n",
      "Block Group 2, Census Tract 8045.09, Cook Count...          392  \n",
      "Block Group 3, Census Tract 8045.07, Cook Count...          945  \n",
      "Block Group 7, Census Tract 8201.01, Cook Count...          576  \n",
      "\n",
      "[3993 rows x 7 columns]\n"
     ]
    }
   ],
   "source": [
    "print(df)\n",
    "df.to_csv('../data/chicago_census.csv', index=False)"
   ]
  }
 ],
 "metadata": {
  "kernelspec": {
   "display_name": "Python 3.8.10 64-bit",
   "language": "python",
   "name": "python3"
  },
  "language_info": {
   "codemirror_mode": {
    "name": "ipython",
    "version": 3
   },
   "file_extension": ".py",
   "mimetype": "text/x-python",
   "name": "python",
   "nbconvert_exporter": "python",
   "pygments_lexer": "ipython3",
   "version": "3.8.10"
  },
  "orig_nbformat": 4,
  "vscode": {
   "interpreter": {
    "hash": "916dbcbb3f70747c44a77c7bcd40155683ae19c65e1c03b4aa3499c5328201f1"
   }
  }
 },
 "nbformat": 4,
 "nbformat_minor": 2
}
