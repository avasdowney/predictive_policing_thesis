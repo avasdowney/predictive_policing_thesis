{
 "cells": [
  {
   "cell_type": "code",
   "execution_count": 60,
   "metadata": {},
   "outputs": [],
   "source": [
    "import pandas as pd\n",
    "import numpy as np\n",
    "\n",
    "from sklearn.model_selection import train_test_split\n",
    "\n",
    "import tensorflow as tf\n",
    "\n",
    "np.random.seed(1)"
   ]
  },
  {
   "cell_type": "code",
   "execution_count": 61,
   "metadata": {},
   "outputs": [
    {
     "data": {
      "text/html": [
       "<div>\n",
       "<style scoped>\n",
       "    .dataframe tbody tr th:only-of-type {\n",
       "        vertical-align: middle;\n",
       "    }\n",
       "\n",
       "    .dataframe tbody tr th {\n",
       "        vertical-align: top;\n",
       "    }\n",
       "\n",
       "    .dataframe thead th {\n",
       "        text-align: right;\n",
       "    }\n",
       "</style>\n",
       "<table border=\"1\" class=\"dataframe\">\n",
       "  <thead>\n",
       "    <tr style=\"text-align: right;\">\n",
       "      <th></th>\n",
       "      <th>SSL SCORE</th>\n",
       "      <th>PREDICTOR RAT VICTIM SHOOTING INCIDENTS</th>\n",
       "      <th>PREDICTOR RAT VICTIM BATTERY OR ASSAULT</th>\n",
       "      <th>PREDICTOR RAT ARRESTS VIOLENT OFFENSES</th>\n",
       "      <th>PREDICTOR RAT GANG AFFILIATION</th>\n",
       "      <th>PREDICTOR RAT NARCOTIC ARRESTS</th>\n",
       "      <th>PREDICTOR RAT TREND IN CRIMINAL ACTIVITY</th>\n",
       "      <th>PREDICTOR RAT UUW ARRESTS</th>\n",
       "      <th>PREDICTOR RAT AGE AT LATEST ARREST_20-30</th>\n",
       "      <th>PREDICTOR RAT AGE AT LATEST ARREST_30-40</th>\n",
       "      <th>PREDICTOR RAT AGE AT LATEST ARREST_40-50</th>\n",
       "      <th>PREDICTOR RAT AGE AT LATEST ARREST_50-60</th>\n",
       "      <th>PREDICTOR RAT AGE AT LATEST ARREST_60-70</th>\n",
       "      <th>PREDICTOR RAT AGE AT LATEST ARREST_70-80</th>\n",
       "      <th>PREDICTOR RAT AGE AT LATEST ARREST_less than 20</th>\n",
       "    </tr>\n",
       "  </thead>\n",
       "  <tbody>\n",
       "    <tr>\n",
       "      <th>count</th>\n",
       "      <td>398684.000000</td>\n",
       "      <td>398684.000000</td>\n",
       "      <td>398684.000000</td>\n",
       "      <td>398684.000000</td>\n",
       "      <td>398684.000000</td>\n",
       "      <td>398684.000000</td>\n",
       "      <td>398684.000000</td>\n",
       "      <td>398684.000000</td>\n",
       "      <td>398684.000000</td>\n",
       "      <td>398684.000000</td>\n",
       "      <td>398684.000000</td>\n",
       "      <td>398684.000000</td>\n",
       "      <td>398684.000000</td>\n",
       "      <td>398684.000000</td>\n",
       "      <td>398684.000000</td>\n",
       "    </tr>\n",
       "    <tr>\n",
       "      <th>mean</th>\n",
       "      <td>0.720882</td>\n",
       "      <td>0.020227</td>\n",
       "      <td>0.035916</td>\n",
       "      <td>0.114988</td>\n",
       "      <td>0.162903</td>\n",
       "      <td>0.335752</td>\n",
       "      <td>-0.049534</td>\n",
       "      <td>0.033297</td>\n",
       "      <td>0.352051</td>\n",
       "      <td>0.223648</td>\n",
       "      <td>0.148193</td>\n",
       "      <td>0.086605</td>\n",
       "      <td>0.019625</td>\n",
       "      <td>0.002496</td>\n",
       "      <td>0.167127</td>\n",
       "    </tr>\n",
       "    <tr>\n",
       "      <th>std</th>\n",
       "      <td>0.448566</td>\n",
       "      <td>0.152919</td>\n",
       "      <td>0.210601</td>\n",
       "      <td>0.405583</td>\n",
       "      <td>0.369278</td>\n",
       "      <td>0.837828</td>\n",
       "      <td>0.404900</td>\n",
       "      <td>0.193237</td>\n",
       "      <td>0.477610</td>\n",
       "      <td>0.416690</td>\n",
       "      <td>0.355291</td>\n",
       "      <td>0.281256</td>\n",
       "      <td>0.138706</td>\n",
       "      <td>0.049895</td>\n",
       "      <td>0.373090</td>\n",
       "    </tr>\n",
       "    <tr>\n",
       "      <th>min</th>\n",
       "      <td>0.000000</td>\n",
       "      <td>0.000000</td>\n",
       "      <td>0.000000</td>\n",
       "      <td>0.000000</td>\n",
       "      <td>0.000000</td>\n",
       "      <td>0.000000</td>\n",
       "      <td>-8.200000</td>\n",
       "      <td>0.000000</td>\n",
       "      <td>0.000000</td>\n",
       "      <td>0.000000</td>\n",
       "      <td>0.000000</td>\n",
       "      <td>0.000000</td>\n",
       "      <td>0.000000</td>\n",
       "      <td>0.000000</td>\n",
       "      <td>0.000000</td>\n",
       "    </tr>\n",
       "    <tr>\n",
       "      <th>25%</th>\n",
       "      <td>0.000000</td>\n",
       "      <td>0.000000</td>\n",
       "      <td>0.000000</td>\n",
       "      <td>0.000000</td>\n",
       "      <td>0.000000</td>\n",
       "      <td>0.000000</td>\n",
       "      <td>-0.300000</td>\n",
       "      <td>0.000000</td>\n",
       "      <td>0.000000</td>\n",
       "      <td>0.000000</td>\n",
       "      <td>0.000000</td>\n",
       "      <td>0.000000</td>\n",
       "      <td>0.000000</td>\n",
       "      <td>0.000000</td>\n",
       "      <td>0.000000</td>\n",
       "    </tr>\n",
       "    <tr>\n",
       "      <th>50%</th>\n",
       "      <td>1.000000</td>\n",
       "      <td>0.000000</td>\n",
       "      <td>0.000000</td>\n",
       "      <td>0.000000</td>\n",
       "      <td>0.000000</td>\n",
       "      <td>0.000000</td>\n",
       "      <td>-0.100000</td>\n",
       "      <td>0.000000</td>\n",
       "      <td>0.000000</td>\n",
       "      <td>0.000000</td>\n",
       "      <td>0.000000</td>\n",
       "      <td>0.000000</td>\n",
       "      <td>0.000000</td>\n",
       "      <td>0.000000</td>\n",
       "      <td>0.000000</td>\n",
       "    </tr>\n",
       "    <tr>\n",
       "      <th>75%</th>\n",
       "      <td>1.000000</td>\n",
       "      <td>0.000000</td>\n",
       "      <td>0.000000</td>\n",
       "      <td>0.000000</td>\n",
       "      <td>0.000000</td>\n",
       "      <td>0.000000</td>\n",
       "      <td>0.200000</td>\n",
       "      <td>0.000000</td>\n",
       "      <td>1.000000</td>\n",
       "      <td>0.000000</td>\n",
       "      <td>0.000000</td>\n",
       "      <td>0.000000</td>\n",
       "      <td>0.000000</td>\n",
       "      <td>0.000000</td>\n",
       "      <td>0.000000</td>\n",
       "    </tr>\n",
       "    <tr>\n",
       "      <th>max</th>\n",
       "      <td>1.000000</td>\n",
       "      <td>4.000000</td>\n",
       "      <td>10.000000</td>\n",
       "      <td>12.000000</td>\n",
       "      <td>1.000000</td>\n",
       "      <td>29.000000</td>\n",
       "      <td>7.300000</td>\n",
       "      <td>4.000000</td>\n",
       "      <td>1.000000</td>\n",
       "      <td>1.000000</td>\n",
       "      <td>1.000000</td>\n",
       "      <td>1.000000</td>\n",
       "      <td>1.000000</td>\n",
       "      <td>1.000000</td>\n",
       "      <td>1.000000</td>\n",
       "    </tr>\n",
       "  </tbody>\n",
       "</table>\n",
       "</div>"
      ],
      "text/plain": [
       "           SSL SCORE  PREDICTOR RAT VICTIM SHOOTING INCIDENTS  \\\n",
       "count  398684.000000                            398684.000000   \n",
       "mean        0.720882                                 0.020227   \n",
       "std         0.448566                                 0.152919   \n",
       "min         0.000000                                 0.000000   \n",
       "25%         0.000000                                 0.000000   \n",
       "50%         1.000000                                 0.000000   \n",
       "75%         1.000000                                 0.000000   \n",
       "max         1.000000                                 4.000000   \n",
       "\n",
       "       PREDICTOR RAT VICTIM BATTERY OR ASSAULT  \\\n",
       "count                            398684.000000   \n",
       "mean                                  0.035916   \n",
       "std                                   0.210601   \n",
       "min                                   0.000000   \n",
       "25%                                   0.000000   \n",
       "50%                                   0.000000   \n",
       "75%                                   0.000000   \n",
       "max                                  10.000000   \n",
       "\n",
       "       PREDICTOR RAT ARRESTS VIOLENT OFFENSES  PREDICTOR RAT GANG AFFILIATION  \\\n",
       "count                           398684.000000                   398684.000000   \n",
       "mean                                 0.114988                        0.162903   \n",
       "std                                  0.405583                        0.369278   \n",
       "min                                  0.000000                        0.000000   \n",
       "25%                                  0.000000                        0.000000   \n",
       "50%                                  0.000000                        0.000000   \n",
       "75%                                  0.000000                        0.000000   \n",
       "max                                 12.000000                        1.000000   \n",
       "\n",
       "       PREDICTOR RAT NARCOTIC ARRESTS  \\\n",
       "count                   398684.000000   \n",
       "mean                         0.335752   \n",
       "std                          0.837828   \n",
       "min                          0.000000   \n",
       "25%                          0.000000   \n",
       "50%                          0.000000   \n",
       "75%                          0.000000   \n",
       "max                         29.000000   \n",
       "\n",
       "       PREDICTOR RAT TREND IN CRIMINAL ACTIVITY  PREDICTOR RAT UUW ARRESTS  \\\n",
       "count                             398684.000000              398684.000000   \n",
       "mean                                  -0.049534                   0.033297   \n",
       "std                                    0.404900                   0.193237   \n",
       "min                                   -8.200000                   0.000000   \n",
       "25%                                   -0.300000                   0.000000   \n",
       "50%                                   -0.100000                   0.000000   \n",
       "75%                                    0.200000                   0.000000   \n",
       "max                                    7.300000                   4.000000   \n",
       "\n",
       "       PREDICTOR RAT AGE AT LATEST ARREST_20-30  \\\n",
       "count                             398684.000000   \n",
       "mean                                   0.352051   \n",
       "std                                    0.477610   \n",
       "min                                    0.000000   \n",
       "25%                                    0.000000   \n",
       "50%                                    0.000000   \n",
       "75%                                    1.000000   \n",
       "max                                    1.000000   \n",
       "\n",
       "       PREDICTOR RAT AGE AT LATEST ARREST_30-40  \\\n",
       "count                             398684.000000   \n",
       "mean                                   0.223648   \n",
       "std                                    0.416690   \n",
       "min                                    0.000000   \n",
       "25%                                    0.000000   \n",
       "50%                                    0.000000   \n",
       "75%                                    0.000000   \n",
       "max                                    1.000000   \n",
       "\n",
       "       PREDICTOR RAT AGE AT LATEST ARREST_40-50  \\\n",
       "count                             398684.000000   \n",
       "mean                                   0.148193   \n",
       "std                                    0.355291   \n",
       "min                                    0.000000   \n",
       "25%                                    0.000000   \n",
       "50%                                    0.000000   \n",
       "75%                                    0.000000   \n",
       "max                                    1.000000   \n",
       "\n",
       "       PREDICTOR RAT AGE AT LATEST ARREST_50-60  \\\n",
       "count                             398684.000000   \n",
       "mean                                   0.086605   \n",
       "std                                    0.281256   \n",
       "min                                    0.000000   \n",
       "25%                                    0.000000   \n",
       "50%                                    0.000000   \n",
       "75%                                    0.000000   \n",
       "max                                    1.000000   \n",
       "\n",
       "       PREDICTOR RAT AGE AT LATEST ARREST_60-70  \\\n",
       "count                             398684.000000   \n",
       "mean                                   0.019625   \n",
       "std                                    0.138706   \n",
       "min                                    0.000000   \n",
       "25%                                    0.000000   \n",
       "50%                                    0.000000   \n",
       "75%                                    0.000000   \n",
       "max                                    1.000000   \n",
       "\n",
       "       PREDICTOR RAT AGE AT LATEST ARREST_70-80  \\\n",
       "count                             398684.000000   \n",
       "mean                                   0.002496   \n",
       "std                                    0.049895   \n",
       "min                                    0.000000   \n",
       "25%                                    0.000000   \n",
       "50%                                    0.000000   \n",
       "75%                                    0.000000   \n",
       "max                                    1.000000   \n",
       "\n",
       "       PREDICTOR RAT AGE AT LATEST ARREST_less than 20  \n",
       "count                                    398684.000000  \n",
       "mean                                          0.167127  \n",
       "std                                           0.373090  \n",
       "min                                           0.000000  \n",
       "25%                                           0.000000  \n",
       "50%                                           0.000000  \n",
       "75%                                           0.000000  \n",
       "max                                           1.000000  "
      ]
     },
     "execution_count": 61,
     "metadata": {},
     "output_type": "execute_result"
    }
   ],
   "source": [
    "# read data\n",
    "df = pd.read_csv('../data/preprocessed_models_data.csv')\n",
    "df.describe()"
   ]
  },
  {
   "cell_type": "code",
   "execution_count": 62,
   "metadata": {},
   "outputs": [],
   "source": [
    "# Labels are the values we want to predict\n",
    "labels = np.array(df['SSL SCORE']) # Y\n",
    "df = df.drop('SSL SCORE', axis = 1)\n",
    "x_list = list(df.columns) # X\n",
    "# Convert to numpy array\n",
    "df = np.array(df)"
   ]
  },
  {
   "cell_type": "code",
   "execution_count": 63,
   "metadata": {},
   "outputs": [],
   "source": [
    "X_train, X_test, y_train, y_test = train_test_split(df, labels, test_size = 0.25, random_state = 42)"
   ]
  },
  {
   "cell_type": "markdown",
   "metadata": {},
   "source": [
    "# Neural Network"
   ]
  },
  {
   "cell_type": "code",
   "execution_count": 64,
   "metadata": {},
   "outputs": [],
   "source": [
    "model = tf.keras.models.Sequential([\n",
    "  tf.keras.layers.Flatten(),\n",
    "  tf.keras.layers.Dense(128, activation='relu'),\n",
    "  tf.keras.layers.Dropout(0.2),\n",
    "  tf.keras.layers.Dense(10)\n",
    "])"
   ]
  },
  {
   "cell_type": "code",
   "execution_count": 65,
   "metadata": {},
   "outputs": [
    {
     "data": {
      "text/plain": [
       "array([[ 0.09655346,  0.0170239 ,  0.16982284,  0.12277207,  0.08424655,\n",
       "         0.09754526, -0.06455867,  0.1624957 ,  0.24059865, -0.02809612]],\n",
       "      dtype=float32)"
      ]
     },
     "execution_count": 65,
     "metadata": {},
     "output_type": "execute_result"
    }
   ],
   "source": [
    "predictions = model(X_train[:1]).numpy()\n",
    "predictions"
   ]
  },
  {
   "cell_type": "code",
   "execution_count": 66,
   "metadata": {},
   "outputs": [
    {
     "data": {
      "text/plain": [
       "array([[0.10028077, 0.09261438, 0.10790414, 0.10294476, 0.09905418,\n",
       "        0.10038027, 0.08535865, 0.10711641, 0.1158179 , 0.08852848]],\n",
       "      dtype=float32)"
      ]
     },
     "execution_count": 66,
     "metadata": {},
     "output_type": "execute_result"
    }
   ],
   "source": [
    "tf.nn.softmax(predictions).numpy()"
   ]
  },
  {
   "cell_type": "code",
   "execution_count": 67,
   "metadata": {},
   "outputs": [],
   "source": [
    "loss_fn = tf.keras.losses.SparseCategoricalCrossentropy(from_logits=True)"
   ]
  },
  {
   "cell_type": "code",
   "execution_count": 68,
   "metadata": {},
   "outputs": [
    {
     "data": {
      "text/plain": [
       "2.379311"
      ]
     },
     "execution_count": 68,
     "metadata": {},
     "output_type": "execute_result"
    }
   ],
   "source": [
    "loss_fn(y_train[:1], predictions).numpy()"
   ]
  },
  {
   "cell_type": "code",
   "execution_count": 69,
   "metadata": {},
   "outputs": [],
   "source": [
    "model.compile(optimizer='adam',\n",
    "              loss=loss_fn,\n",
    "              metrics=['accuracy'])"
   ]
  },
  {
   "cell_type": "code",
   "execution_count": 70,
   "metadata": {},
   "outputs": [
    {
     "name": "stdout",
     "output_type": "stream",
     "text": [
      "Epoch 1/5\n",
      "9345/9345 [==============================] - 21s 2ms/step - loss: 0.1049 - accuracy: 0.9643\n",
      "Epoch 2/5\n",
      "9345/9345 [==============================] - 21s 2ms/step - loss: 0.0888 - accuracy: 0.9662\n",
      "Epoch 3/5\n",
      "9345/9345 [==============================] - 22s 2ms/step - loss: 0.0882 - accuracy: 0.9664\n",
      "Epoch 4/5\n",
      "9345/9345 [==============================] - 24s 3ms/step - loss: 0.0880 - accuracy: 0.9662\n",
      "Epoch 5/5\n",
      "9345/9345 [==============================] - 24s 3ms/step - loss: 0.0877 - accuracy: 0.9663\n"
     ]
    },
    {
     "data": {
      "text/plain": [
       "<keras.callbacks.History at 0x7f5998156190>"
      ]
     },
     "execution_count": 70,
     "metadata": {},
     "output_type": "execute_result"
    }
   ],
   "source": [
    "model.fit(X_train, y_train, epochs=5)"
   ]
  },
  {
   "cell_type": "code",
   "execution_count": 77,
   "metadata": {},
   "outputs": [
    {
     "name": "stdout",
     "output_type": "stream",
     "text": [
      "3115/3115 - 5s - loss: 0.0870 - accuracy: 0.9667 - 5s/epoch - 2ms/step\n"
     ]
    },
    {
     "data": {
      "text/plain": [
       "[0.08698250353336334, 0.9667004346847534]"
      ]
     },
     "execution_count": 77,
     "metadata": {},
     "output_type": "execute_result"
    }
   ],
   "source": [
    "model.evaluate(X_test, y_test, verbose=2)"
   ]
  }
 ],
 "metadata": {
  "kernelspec": {
   "display_name": "Python 3.8.10 64-bit",
   "language": "python",
   "name": "python3"
  },
  "language_info": {
   "codemirror_mode": {
    "name": "ipython",
    "version": 3
   },
   "file_extension": ".py",
   "mimetype": "text/x-python",
   "name": "python",
   "nbconvert_exporter": "python",
   "pygments_lexer": "ipython3",
   "version": "3.8.10"
  },
  "orig_nbformat": 4,
  "vscode": {
   "interpreter": {
    "hash": "916dbcbb3f70747c44a77c7bcd40155683ae19c65e1c03b4aa3499c5328201f1"
   }
  }
 },
 "nbformat": 4,
 "nbformat_minor": 2
}
