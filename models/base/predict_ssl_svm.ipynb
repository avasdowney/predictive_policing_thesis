{
 "cells": [
  {
   "cell_type": "code",
   "execution_count": 1,
   "metadata": {},
   "outputs": [],
   "source": [
    "import pandas as pd\n",
    "import numpy as np\n",
    "import matplotlib.pyplot as plt\n",
    "import seaborn as sns\n",
    "\n",
    "from sklearn.model_selection import train_test_split\n",
    "from sklearn import svm\n",
    "from sklearn import metrics\n",
    "from sklearn.metrics import classification_report, precision_score, recall_score, accuracy_score, f1_score\n",
    "\n",
    "\n",
    "np.random.seed(1)"
   ]
  },
  {
   "cell_type": "code",
   "execution_count": 2,
   "metadata": {},
   "outputs": [
    {
     "data": {
      "text/html": [
       "<div>\n",
       "<style scoped>\n",
       "    .dataframe tbody tr th:only-of-type {\n",
       "        vertical-align: middle;\n",
       "    }\n",
       "\n",
       "    .dataframe tbody tr th {\n",
       "        vertical-align: top;\n",
       "    }\n",
       "\n",
       "    .dataframe thead th {\n",
       "        text-align: right;\n",
       "    }\n",
       "</style>\n",
       "<table border=\"1\" class=\"dataframe\">\n",
       "  <thead>\n",
       "    <tr style=\"text-align: right;\">\n",
       "      <th></th>\n",
       "      <th>SSL SCORE</th>\n",
       "      <th>PREDICTOR RAT VICTIM SHOOTING INCIDENTS</th>\n",
       "      <th>PREDICTOR RAT VICTIM BATTERY OR ASSAULT</th>\n",
       "      <th>PREDICTOR RAT ARRESTS VIOLENT OFFENSES</th>\n",
       "      <th>PREDICTOR RAT GANG AFFILIATION</th>\n",
       "      <th>PREDICTOR RAT NARCOTIC ARRESTS</th>\n",
       "      <th>PREDICTOR RAT TREND IN CRIMINAL ACTIVITY</th>\n",
       "      <th>PREDICTOR RAT UUW ARRESTS</th>\n",
       "      <th>PREDICTOR RAT AGE AT LATEST ARREST_20-30</th>\n",
       "      <th>PREDICTOR RAT AGE AT LATEST ARREST_30-40</th>\n",
       "      <th>PREDICTOR RAT AGE AT LATEST ARREST_40-50</th>\n",
       "      <th>PREDICTOR RAT AGE AT LATEST ARREST_50-60</th>\n",
       "      <th>PREDICTOR RAT AGE AT LATEST ARREST_60-70</th>\n",
       "      <th>PREDICTOR RAT AGE AT LATEST ARREST_70-80</th>\n",
       "      <th>PREDICTOR RAT AGE AT LATEST ARREST_less than 20</th>\n",
       "    </tr>\n",
       "  </thead>\n",
       "  <tbody>\n",
       "    <tr>\n",
       "      <th>count</th>\n",
       "      <td>227718.000000</td>\n",
       "      <td>227718.000000</td>\n",
       "      <td>227718.000000</td>\n",
       "      <td>227718.000000</td>\n",
       "      <td>227718.000000</td>\n",
       "      <td>227718.000000</td>\n",
       "      <td>227718.000000</td>\n",
       "      <td>227718.000000</td>\n",
       "      <td>227718.000000</td>\n",
       "      <td>227718.000000</td>\n",
       "      <td>227718.000000</td>\n",
       "      <td>227718.000000</td>\n",
       "      <td>227718.000000</td>\n",
       "      <td>227718.000000</td>\n",
       "      <td>227718.000000</td>\n",
       "    </tr>\n",
       "    <tr>\n",
       "      <th>mean</th>\n",
       "      <td>0.722819</td>\n",
       "      <td>0.032163</td>\n",
       "      <td>0.055758</td>\n",
       "      <td>0.154204</td>\n",
       "      <td>0.255035</td>\n",
       "      <td>0.476133</td>\n",
       "      <td>-0.066688</td>\n",
       "      <td>0.046681</td>\n",
       "      <td>0.343390</td>\n",
       "      <td>0.210001</td>\n",
       "      <td>0.145434</td>\n",
       "      <td>0.094384</td>\n",
       "      <td>0.020359</td>\n",
       "      <td>0.002244</td>\n",
       "      <td>0.184188</td>\n",
       "    </tr>\n",
       "    <tr>\n",
       "      <th>std</th>\n",
       "      <td>0.447607</td>\n",
       "      <td>0.192319</td>\n",
       "      <td>0.261376</td>\n",
       "      <td>0.466019</td>\n",
       "      <td>0.435882</td>\n",
       "      <td>0.999584</td>\n",
       "      <td>0.445321</td>\n",
       "      <td>0.227326</td>\n",
       "      <td>0.474841</td>\n",
       "      <td>0.407310</td>\n",
       "      <td>0.352539</td>\n",
       "      <td>0.292363</td>\n",
       "      <td>0.141224</td>\n",
       "      <td>0.047318</td>\n",
       "      <td>0.387639</td>\n",
       "    </tr>\n",
       "    <tr>\n",
       "      <th>min</th>\n",
       "      <td>0.000000</td>\n",
       "      <td>0.000000</td>\n",
       "      <td>0.000000</td>\n",
       "      <td>0.000000</td>\n",
       "      <td>0.000000</td>\n",
       "      <td>0.000000</td>\n",
       "      <td>-8.200000</td>\n",
       "      <td>0.000000</td>\n",
       "      <td>0.000000</td>\n",
       "      <td>0.000000</td>\n",
       "      <td>0.000000</td>\n",
       "      <td>0.000000</td>\n",
       "      <td>0.000000</td>\n",
       "      <td>0.000000</td>\n",
       "      <td>0.000000</td>\n",
       "    </tr>\n",
       "    <tr>\n",
       "      <th>25%</th>\n",
       "      <td>0.000000</td>\n",
       "      <td>0.000000</td>\n",
       "      <td>0.000000</td>\n",
       "      <td>0.000000</td>\n",
       "      <td>0.000000</td>\n",
       "      <td>0.000000</td>\n",
       "      <td>-0.300000</td>\n",
       "      <td>0.000000</td>\n",
       "      <td>0.000000</td>\n",
       "      <td>0.000000</td>\n",
       "      <td>0.000000</td>\n",
       "      <td>0.000000</td>\n",
       "      <td>0.000000</td>\n",
       "      <td>0.000000</td>\n",
       "      <td>0.000000</td>\n",
       "    </tr>\n",
       "    <tr>\n",
       "      <th>50%</th>\n",
       "      <td>1.000000</td>\n",
       "      <td>0.000000</td>\n",
       "      <td>0.000000</td>\n",
       "      <td>0.000000</td>\n",
       "      <td>0.000000</td>\n",
       "      <td>0.000000</td>\n",
       "      <td>-0.100000</td>\n",
       "      <td>0.000000</td>\n",
       "      <td>0.000000</td>\n",
       "      <td>0.000000</td>\n",
       "      <td>0.000000</td>\n",
       "      <td>0.000000</td>\n",
       "      <td>0.000000</td>\n",
       "      <td>0.000000</td>\n",
       "      <td>0.000000</td>\n",
       "    </tr>\n",
       "    <tr>\n",
       "      <th>75%</th>\n",
       "      <td>1.000000</td>\n",
       "      <td>0.000000</td>\n",
       "      <td>0.000000</td>\n",
       "      <td>0.000000</td>\n",
       "      <td>1.000000</td>\n",
       "      <td>1.000000</td>\n",
       "      <td>0.200000</td>\n",
       "      <td>0.000000</td>\n",
       "      <td>1.000000</td>\n",
       "      <td>0.000000</td>\n",
       "      <td>0.000000</td>\n",
       "      <td>0.000000</td>\n",
       "      <td>0.000000</td>\n",
       "      <td>0.000000</td>\n",
       "      <td>0.000000</td>\n",
       "    </tr>\n",
       "    <tr>\n",
       "      <th>max</th>\n",
       "      <td>1.000000</td>\n",
       "      <td>4.000000</td>\n",
       "      <td>10.000000</td>\n",
       "      <td>12.000000</td>\n",
       "      <td>1.000000</td>\n",
       "      <td>27.000000</td>\n",
       "      <td>7.300000</td>\n",
       "      <td>4.000000</td>\n",
       "      <td>1.000000</td>\n",
       "      <td>1.000000</td>\n",
       "      <td>1.000000</td>\n",
       "      <td>1.000000</td>\n",
       "      <td>1.000000</td>\n",
       "      <td>1.000000</td>\n",
       "      <td>1.000000</td>\n",
       "    </tr>\n",
       "  </tbody>\n",
       "</table>\n",
       "</div>"
      ],
      "text/plain": [
       "           SSL SCORE  PREDICTOR RAT VICTIM SHOOTING INCIDENTS  \\\n",
       "count  227718.000000                            227718.000000   \n",
       "mean        0.722819                                 0.032163   \n",
       "std         0.447607                                 0.192319   \n",
       "min         0.000000                                 0.000000   \n",
       "25%         0.000000                                 0.000000   \n",
       "50%         1.000000                                 0.000000   \n",
       "75%         1.000000                                 0.000000   \n",
       "max         1.000000                                 4.000000   \n",
       "\n",
       "       PREDICTOR RAT VICTIM BATTERY OR ASSAULT  \\\n",
       "count                            227718.000000   \n",
       "mean                                  0.055758   \n",
       "std                                   0.261376   \n",
       "min                                   0.000000   \n",
       "25%                                   0.000000   \n",
       "50%                                   0.000000   \n",
       "75%                                   0.000000   \n",
       "max                                  10.000000   \n",
       "\n",
       "       PREDICTOR RAT ARRESTS VIOLENT OFFENSES  PREDICTOR RAT GANG AFFILIATION  \\\n",
       "count                           227718.000000                   227718.000000   \n",
       "mean                                 0.154204                        0.255035   \n",
       "std                                  0.466019                        0.435882   \n",
       "min                                  0.000000                        0.000000   \n",
       "25%                                  0.000000                        0.000000   \n",
       "50%                                  0.000000                        0.000000   \n",
       "75%                                  0.000000                        1.000000   \n",
       "max                                 12.000000                        1.000000   \n",
       "\n",
       "       PREDICTOR RAT NARCOTIC ARRESTS  \\\n",
       "count                   227718.000000   \n",
       "mean                         0.476133   \n",
       "std                          0.999584   \n",
       "min                          0.000000   \n",
       "25%                          0.000000   \n",
       "50%                          0.000000   \n",
       "75%                          1.000000   \n",
       "max                         27.000000   \n",
       "\n",
       "       PREDICTOR RAT TREND IN CRIMINAL ACTIVITY  PREDICTOR RAT UUW ARRESTS  \\\n",
       "count                             227718.000000              227718.000000   \n",
       "mean                                  -0.066688                   0.046681   \n",
       "std                                    0.445321                   0.227326   \n",
       "min                                   -8.200000                   0.000000   \n",
       "25%                                   -0.300000                   0.000000   \n",
       "50%                                   -0.100000                   0.000000   \n",
       "75%                                    0.200000                   0.000000   \n",
       "max                                    7.300000                   4.000000   \n",
       "\n",
       "       PREDICTOR RAT AGE AT LATEST ARREST_20-30  \\\n",
       "count                             227718.000000   \n",
       "mean                                   0.343390   \n",
       "std                                    0.474841   \n",
       "min                                    0.000000   \n",
       "25%                                    0.000000   \n",
       "50%                                    0.000000   \n",
       "75%                                    1.000000   \n",
       "max                                    1.000000   \n",
       "\n",
       "       PREDICTOR RAT AGE AT LATEST ARREST_30-40  \\\n",
       "count                             227718.000000   \n",
       "mean                                   0.210001   \n",
       "std                                    0.407310   \n",
       "min                                    0.000000   \n",
       "25%                                    0.000000   \n",
       "50%                                    0.000000   \n",
       "75%                                    0.000000   \n",
       "max                                    1.000000   \n",
       "\n",
       "       PREDICTOR RAT AGE AT LATEST ARREST_40-50  \\\n",
       "count                             227718.000000   \n",
       "mean                                   0.145434   \n",
       "std                                    0.352539   \n",
       "min                                    0.000000   \n",
       "25%                                    0.000000   \n",
       "50%                                    0.000000   \n",
       "75%                                    0.000000   \n",
       "max                                    1.000000   \n",
       "\n",
       "       PREDICTOR RAT AGE AT LATEST ARREST_50-60  \\\n",
       "count                             227718.000000   \n",
       "mean                                   0.094384   \n",
       "std                                    0.292363   \n",
       "min                                    0.000000   \n",
       "25%                                    0.000000   \n",
       "50%                                    0.000000   \n",
       "75%                                    0.000000   \n",
       "max                                    1.000000   \n",
       "\n",
       "       PREDICTOR RAT AGE AT LATEST ARREST_60-70  \\\n",
       "count                             227718.000000   \n",
       "mean                                   0.020359   \n",
       "std                                    0.141224   \n",
       "min                                    0.000000   \n",
       "25%                                    0.000000   \n",
       "50%                                    0.000000   \n",
       "75%                                    0.000000   \n",
       "max                                    1.000000   \n",
       "\n",
       "       PREDICTOR RAT AGE AT LATEST ARREST_70-80  \\\n",
       "count                             227718.000000   \n",
       "mean                                   0.002244   \n",
       "std                                    0.047318   \n",
       "min                                    0.000000   \n",
       "25%                                    0.000000   \n",
       "50%                                    0.000000   \n",
       "75%                                    0.000000   \n",
       "max                                    1.000000   \n",
       "\n",
       "       PREDICTOR RAT AGE AT LATEST ARREST_less than 20  \n",
       "count                                    227718.000000  \n",
       "mean                                          0.184188  \n",
       "std                                           0.387639  \n",
       "min                                           0.000000  \n",
       "25%                                           0.000000  \n",
       "50%                                           0.000000  \n",
       "75%                                           0.000000  \n",
       "max                                           1.000000  "
      ]
     },
     "execution_count": 2,
     "metadata": {},
     "output_type": "execute_result"
    }
   ],
   "source": [
    "# read data\n",
    "df = pd.read_csv('../../data/preprocessed_models_data.csv')\n",
    "df.describe()"
   ]
  },
  {
   "cell_type": "code",
   "execution_count": 3,
   "metadata": {},
   "outputs": [],
   "source": [
    "# Labels are the values we want to predict\n",
    "labels = np.array(df['SSL SCORE']) # Y\n",
    "df = df.drop('SSL SCORE', axis = 1)\n",
    "x_list = list(df.columns) # X\n",
    "# Convert to numpy array\n",
    "df = np.array(df)"
   ]
  },
  {
   "cell_type": "code",
   "execution_count": 4,
   "metadata": {},
   "outputs": [],
   "source": [
    "X_train, X_test, y_train, y_test = train_test_split(df, labels, test_size = 0.25, random_state = 42)"
   ]
  },
  {
   "attachments": {},
   "cell_type": "markdown",
   "metadata": {},
   "source": [
    "# Linear Support Vector Machine"
   ]
  },
  {
   "cell_type": "code",
   "execution_count": 5,
   "metadata": {},
   "outputs": [],
   "source": [
    "clf = svm.SVC(kernel='linear', max_iter=10000) # Linear Kernel\n",
    "clf.fit(X_train, y_train)\n",
    "y_pred = clf.predict(X_test)"
   ]
  },
  {
   "cell_type": "code",
   "execution_count": 6,
   "metadata": {},
   "outputs": [
    {
     "data": {
      "text/plain": [
       "Text(0.5, 427.9555555555555, 'Predicted label')"
      ]
     },
     "execution_count": 6,
     "metadata": {},
     "output_type": "execute_result"
    },
    {
     "data": {
      "image/png": "[encoded data removed]",
      "text/plain": [
       "<Figure size 640x480 with 2 Axes>"
      ]
     },
     "metadata": {},
     "output_type": "display_data"
    }
   ],
   "source": [
    "cnf_matrix = metrics.confusion_matrix(y_test, y_pred)\n",
    "class_names=[0,1] # name  of classes\n",
    "fig, ax = plt.subplots()\n",
    "tick_marks = np.arange(len(class_names))\n",
    "plt.xticks(tick_marks, class_names)\n",
    "plt.yticks(tick_marks, class_names)\n",
    "# create heatmap\n",
    "sns.heatmap(pd.DataFrame(cnf_matrix), annot=True, cmap=\"YlGnBu\" ,fmt='g')\n",
    "ax.xaxis.set_label_position(\"top\")\n",
    "plt.tight_layout()\n",
    "plt.title('Confusion matrix', y=1.1)\n",
    "plt.ylabel('Actual label')\n",
    "plt.xlabel('Predicted label')"
   ]
  },
  {
   "cell_type": "code",
   "execution_count": 7,
   "metadata": {},
   "outputs": [
    {
     "name": "stdout",
     "output_type": "stream",
     "text": [
      "                precision    recall  f1-score   support\n",
      "\n",
      " LOW SSL SCORE       0.98      0.90      0.94     15783\n",
      "HIGH SSL SCORE       0.96      0.99      0.98     41147\n",
      "\n",
      "      accuracy                           0.97     56930\n",
      "     macro avg       0.97      0.95      0.96     56930\n",
      "  weighted avg       0.97      0.97      0.97     56930\n",
      "\n"
     ]
    }
   ],
   "source": [
    "target_names = ['LOW SSL SCORE', 'HIGH SSL SCORE']\n",
    "print(classification_report(y_test, y_pred, target_names=target_names))"
   ]
  },
  {
   "cell_type": "code",
   "execution_count": 8,
   "metadata": {},
   "outputs": [
    {
     "name": "stdout",
     "output_type": "stream",
     "text": [
      "Accuracy: 0.9688\n",
      "Precision: 0.9633\n",
      "Recall: 0.9947\n",
      "F1 Score: 0.9787\n"
     ]
    }
   ],
   "source": [
    "print('Accuracy: %.4f' % accuracy_score(y_test, y_pred))\n",
    "print('Precision: %.4f' % precision_score(y_test, y_pred))\n",
    "print('Recall: %.4f' % recall_score(y_test, y_pred))\n",
    "print('F1 Score: %.4f' % f1_score(y_test, y_pred))"
   ]
  },
  {
   "attachments": {},
   "cell_type": "markdown",
   "metadata": {},
   "source": [
    "# RBF Support Vector Machine"
   ]
  },
  {
   "cell_type": "code",
   "execution_count": 9,
   "metadata": {},
   "outputs": [
    {
     "name": "stderr",
     "output_type": "stream",
     "text": [
      "/home/avasd/.local/lib/python3.8/site-packages/sklearn/svm/_base.py:284: ConvergenceWarning: Solver terminated early (max_iter=10000).  Consider pre-processing your data with StandardScaler or MinMaxScaler.\n",
      "  warnings.warn(\n"
     ]
    }
   ],
   "source": [
    "clf = svm.SVC(kernel='rbf', max_iter=10000) # Linear Kernel\n",
    "clf.fit(X_train, y_train)\n",
    "y_pred = clf.predict(X_test)"
   ]
  },
  {
   "cell_type": "code",
   "execution_count": 10,
   "metadata": {},
   "outputs": [
    {
     "data": {
      "text/plain": [
       "Text(0.5, 427.9555555555555, 'Predicted label')"
      ]
     },
     "execution_count": 10,
     "metadata": {},
     "output_type": "execute_result"
    },
    {
     "data": {
      "image/png": "[encoded data removed]",
      "text/plain": [
       "<Figure size 640x480 with 2 Axes>"
      ]
     },
     "metadata": {},
     "output_type": "display_data"
    }
   ],
   "source": [
    "cnf_matrix = metrics.confusion_matrix(y_test, y_pred)\n",
    "class_names=[0,1] # name  of classes\n",
    "fig, ax = plt.subplots()\n",
    "tick_marks = np.arange(len(class_names))\n",
    "plt.xticks(tick_marks, class_names)\n",
    "plt.yticks(tick_marks, class_names)\n",
    "# create heatmap\n",
    "sns.heatmap(pd.DataFrame(cnf_matrix), annot=True, cmap=\"YlGnBu\" ,fmt='g')\n",
    "ax.xaxis.set_label_position(\"top\")\n",
    "plt.tight_layout()\n",
    "plt.title('Confusion matrix', y=1.1)\n",
    "plt.ylabel('Actual label')\n",
    "plt.xlabel('Predicted label')"
   ]
  },
  {
   "cell_type": "code",
   "execution_count": 11,
   "metadata": {},
   "outputs": [
    {
     "name": "stdout",
     "output_type": "stream",
     "text": [
      "                precision    recall  f1-score   support\n",
      "\n",
      " LOW SSL SCORE       0.99      0.90      0.94     15783\n",
      "HIGH SSL SCORE       0.96      0.99      0.98     41147\n",
      "\n",
      "      accuracy                           0.97     56930\n",
      "     macro avg       0.97      0.95      0.96     56930\n",
      "  weighted avg       0.97      0.97      0.97     56930\n",
      "\n"
     ]
    }
   ],
   "source": [
    "target_names = ['LOW SSL SCORE', 'HIGH SSL SCORE']\n",
    "print(classification_report(y_test, y_pred, target_names=target_names))"
   ]
  },
  {
   "cell_type": "code",
   "execution_count": 12,
   "metadata": {},
   "outputs": [
    {
     "name": "stdout",
     "output_type": "stream",
     "text": [
      "Accuracy: 0.9693\n",
      "Precision: 0.9639\n",
      "Recall: 0.9948\n",
      "F1 Score: 0.9791\n"
     ]
    }
   ],
   "source": [
    "print('Accuracy: %.4f' % accuracy_score(y_test, y_pred))\n",
    "print('Precision: %.4f' % precision_score(y_test, y_pred))\n",
    "print('Recall: %.4f' % recall_score(y_test, y_pred))\n",
    "print('F1 Score: %.4f' % f1_score(y_test, y_pred))"
   ]
  }
 ],
 "metadata": {
  "kernelspec": {
   "display_name": "Python 3.8.10 64-bit",
   "language": "python",
   "name": "python3"
  },
  "language_info": {
   "codemirror_mode": {
    "name": "ipython",
    "version": 3
   },
   "file_extension": ".py",
   "mimetype": "text/x-python",
   "name": "python",
   "nbconvert_exporter": "python",
   "pygments_lexer": "ipython3",
   "version": "3.8.10"
  },
  "orig_nbformat": 4,
  "vscode": {
   "interpreter": {
    "hash": "916dbcbb3f70747c44a77c7bcd40155683ae19c65e1c03b4aa3499c5328201f1"
   }
  }
 },
 "nbformat": 4,
 "nbformat_minor": 2
}
