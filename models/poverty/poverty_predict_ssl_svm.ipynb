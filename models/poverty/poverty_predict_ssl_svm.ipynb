{
 "cells": [
  {
   "cell_type": "code",
   "execution_count": 6,
   "metadata": {},
   "outputs": [],
   "source": [
    "import pandas as pd\n",
    "import numpy as np\n",
    "import matplotlib.pyplot as plt\n",
    "import seaborn as sns\n",
    "\n",
    "from sklearn.model_selection import train_test_split\n",
    "from sklearn import svm\n",
    "from sklearn import metrics\n",
    "from sklearn.metrics import classification_report, precision_score, recall_score, accuracy_score, f1_score\n",
    "\n",
    "\n",
    "np.random.seed(1)"
   ]
  },
  {
   "cell_type": "code",
   "execution_count": 7,
   "metadata": {},
   "outputs": [
    {
     "data": {
      "text/html": [
       "<div>\n",
       "<style scoped>\n",
       "    .dataframe tbody tr th:only-of-type {\n",
       "        vertical-align: middle;\n",
       "    }\n",
       "\n",
       "    .dataframe tbody tr th {\n",
       "        vertical-align: top;\n",
       "    }\n",
       "\n",
       "    .dataframe thead th {\n",
       "        text-align: right;\n",
       "    }\n",
       "</style>\n",
       "<table border=\"1\" class=\"dataframe\">\n",
       "  <thead>\n",
       "    <tr style=\"text-align: right;\">\n",
       "      <th></th>\n",
       "      <th>SSL SCORE</th>\n",
       "      <th>PREDICTOR RAT VICTIM SHOOTING INCIDENTS</th>\n",
       "      <th>PREDICTOR RAT VICTIM BATTERY OR ASSAULT</th>\n",
       "      <th>PREDICTOR RAT ARRESTS VIOLENT OFFENSES</th>\n",
       "      <th>PREDICTOR RAT GANG AFFILIATION</th>\n",
       "      <th>PREDICTOR RAT NARCOTIC ARRESTS</th>\n",
       "      <th>PREDICTOR RAT TREND IN CRIMINAL ACTIVITY</th>\n",
       "      <th>PREDICTOR RAT UUW ARRESTS</th>\n",
       "      <th>PREDICTOR RAT AGE AT LATEST ARREST_20-30</th>\n",
       "      <th>PREDICTOR RAT AGE AT LATEST ARREST_30-40</th>\n",
       "      <th>PREDICTOR RAT AGE AT LATEST ARREST_40-50</th>\n",
       "      <th>PREDICTOR RAT AGE AT LATEST ARREST_50-60</th>\n",
       "      <th>PREDICTOR RAT AGE AT LATEST ARREST_60-70</th>\n",
       "      <th>PREDICTOR RAT AGE AT LATEST ARREST_70-80</th>\n",
       "      <th>PREDICTOR RAT AGE AT LATEST ARREST_less than 20</th>\n",
       "      <th>Poverty_Rate</th>\n",
       "    </tr>\n",
       "  </thead>\n",
       "  <tbody>\n",
       "    <tr>\n",
       "      <th>count</th>\n",
       "      <td>223839.000000</td>\n",
       "      <td>223839.000000</td>\n",
       "      <td>223839.000000</td>\n",
       "      <td>223839.000000</td>\n",
       "      <td>223839.000000</td>\n",
       "      <td>223839.000000</td>\n",
       "      <td>223839.000000</td>\n",
       "      <td>223839.000000</td>\n",
       "      <td>223839.000000</td>\n",
       "      <td>223839.000000</td>\n",
       "      <td>223839.000000</td>\n",
       "      <td>223839.000000</td>\n",
       "      <td>223839.000000</td>\n",
       "      <td>223839.000000</td>\n",
       "      <td>223839.000000</td>\n",
       "      <td>223839.000000</td>\n",
       "    </tr>\n",
       "    <tr>\n",
       "      <th>mean</th>\n",
       "      <td>0.722957</td>\n",
       "      <td>0.032573</td>\n",
       "      <td>0.056357</td>\n",
       "      <td>0.156005</td>\n",
       "      <td>0.258463</td>\n",
       "      <td>0.481784</td>\n",
       "      <td>-0.067300</td>\n",
       "      <td>0.047297</td>\n",
       "      <td>0.342930</td>\n",
       "      <td>0.209338</td>\n",
       "      <td>0.145421</td>\n",
       "      <td>0.094599</td>\n",
       "      <td>0.020327</td>\n",
       "      <td>0.002225</td>\n",
       "      <td>0.185160</td>\n",
       "      <td>29.924888</td>\n",
       "    </tr>\n",
       "    <tr>\n",
       "      <th>std</th>\n",
       "      <td>0.447539</td>\n",
       "      <td>0.193414</td>\n",
       "      <td>0.262757</td>\n",
       "      <td>0.468660</td>\n",
       "      <td>0.437790</td>\n",
       "      <td>1.005172</td>\n",
       "      <td>0.447049</td>\n",
       "      <td>0.228805</td>\n",
       "      <td>0.474689</td>\n",
       "      <td>0.406837</td>\n",
       "      <td>0.352526</td>\n",
       "      <td>0.292661</td>\n",
       "      <td>0.141117</td>\n",
       "      <td>0.047116</td>\n",
       "      <td>0.388428</td>\n",
       "      <td>14.925837</td>\n",
       "    </tr>\n",
       "    <tr>\n",
       "      <th>min</th>\n",
       "      <td>0.000000</td>\n",
       "      <td>0.000000</td>\n",
       "      <td>0.000000</td>\n",
       "      <td>0.000000</td>\n",
       "      <td>0.000000</td>\n",
       "      <td>0.000000</td>\n",
       "      <td>-8.200000</td>\n",
       "      <td>0.000000</td>\n",
       "      <td>0.000000</td>\n",
       "      <td>0.000000</td>\n",
       "      <td>0.000000</td>\n",
       "      <td>0.000000</td>\n",
       "      <td>0.000000</td>\n",
       "      <td>0.000000</td>\n",
       "      <td>0.000000</td>\n",
       "      <td>0.217865</td>\n",
       "    </tr>\n",
       "    <tr>\n",
       "      <th>25%</th>\n",
       "      <td>0.000000</td>\n",
       "      <td>0.000000</td>\n",
       "      <td>0.000000</td>\n",
       "      <td>0.000000</td>\n",
       "      <td>0.000000</td>\n",
       "      <td>0.000000</td>\n",
       "      <td>-0.300000</td>\n",
       "      <td>0.000000</td>\n",
       "      <td>0.000000</td>\n",
       "      <td>0.000000</td>\n",
       "      <td>0.000000</td>\n",
       "      <td>0.000000</td>\n",
       "      <td>0.000000</td>\n",
       "      <td>0.000000</td>\n",
       "      <td>0.000000</td>\n",
       "      <td>17.720047</td>\n",
       "    </tr>\n",
       "    <tr>\n",
       "      <th>50%</th>\n",
       "      <td>1.000000</td>\n",
       "      <td>0.000000</td>\n",
       "      <td>0.000000</td>\n",
       "      <td>0.000000</td>\n",
       "      <td>0.000000</td>\n",
       "      <td>0.000000</td>\n",
       "      <td>-0.100000</td>\n",
       "      <td>0.000000</td>\n",
       "      <td>0.000000</td>\n",
       "      <td>0.000000</td>\n",
       "      <td>0.000000</td>\n",
       "      <td>0.000000</td>\n",
       "      <td>0.000000</td>\n",
       "      <td>0.000000</td>\n",
       "      <td>0.000000</td>\n",
       "      <td>28.943850</td>\n",
       "    </tr>\n",
       "    <tr>\n",
       "      <th>75%</th>\n",
       "      <td>1.000000</td>\n",
       "      <td>0.000000</td>\n",
       "      <td>0.000000</td>\n",
       "      <td>0.000000</td>\n",
       "      <td>1.000000</td>\n",
       "      <td>1.000000</td>\n",
       "      <td>0.200000</td>\n",
       "      <td>0.000000</td>\n",
       "      <td>1.000000</td>\n",
       "      <td>0.000000</td>\n",
       "      <td>0.000000</td>\n",
       "      <td>0.000000</td>\n",
       "      <td>0.000000</td>\n",
       "      <td>0.000000</td>\n",
       "      <td>0.000000</td>\n",
       "      <td>41.584362</td>\n",
       "    </tr>\n",
       "    <tr>\n",
       "      <th>max</th>\n",
       "      <td>1.000000</td>\n",
       "      <td>4.000000</td>\n",
       "      <td>10.000000</td>\n",
       "      <td>12.000000</td>\n",
       "      <td>1.000000</td>\n",
       "      <td>27.000000</td>\n",
       "      <td>7.300000</td>\n",
       "      <td>4.000000</td>\n",
       "      <td>1.000000</td>\n",
       "      <td>1.000000</td>\n",
       "      <td>1.000000</td>\n",
       "      <td>1.000000</td>\n",
       "      <td>1.000000</td>\n",
       "      <td>1.000000</td>\n",
       "      <td>1.000000</td>\n",
       "      <td>100.000000</td>\n",
       "    </tr>\n",
       "  </tbody>\n",
       "</table>\n",
       "</div>"
      ],
      "text/plain": [
       "           SSL SCORE  PREDICTOR RAT VICTIM SHOOTING INCIDENTS  \\\n",
       "count  223839.000000                            223839.000000   \n",
       "mean        0.722957                                 0.032573   \n",
       "std         0.447539                                 0.193414   \n",
       "min         0.000000                                 0.000000   \n",
       "25%         0.000000                                 0.000000   \n",
       "50%         1.000000                                 0.000000   \n",
       "75%         1.000000                                 0.000000   \n",
       "max         1.000000                                 4.000000   \n",
       "\n",
       "       PREDICTOR RAT VICTIM BATTERY OR ASSAULT  \\\n",
       "count                            223839.000000   \n",
       "mean                                  0.056357   \n",
       "std                                   0.262757   \n",
       "min                                   0.000000   \n",
       "25%                                   0.000000   \n",
       "50%                                   0.000000   \n",
       "75%                                   0.000000   \n",
       "max                                  10.000000   \n",
       "\n",
       "       PREDICTOR RAT ARRESTS VIOLENT OFFENSES  PREDICTOR RAT GANG AFFILIATION  \\\n",
       "count                           223839.000000                   223839.000000   \n",
       "mean                                 0.156005                        0.258463   \n",
       "std                                  0.468660                        0.437790   \n",
       "min                                  0.000000                        0.000000   \n",
       "25%                                  0.000000                        0.000000   \n",
       "50%                                  0.000000                        0.000000   \n",
       "75%                                  0.000000                        1.000000   \n",
       "max                                 12.000000                        1.000000   \n",
       "\n",
       "       PREDICTOR RAT NARCOTIC ARRESTS  \\\n",
       "count                   223839.000000   \n",
       "mean                         0.481784   \n",
       "std                          1.005172   \n",
       "min                          0.000000   \n",
       "25%                          0.000000   \n",
       "50%                          0.000000   \n",
       "75%                          1.000000   \n",
       "max                         27.000000   \n",
       "\n",
       "       PREDICTOR RAT TREND IN CRIMINAL ACTIVITY  PREDICTOR RAT UUW ARRESTS  \\\n",
       "count                             223839.000000              223839.000000   \n",
       "mean                                  -0.067300                   0.047297   \n",
       "std                                    0.447049                   0.228805   \n",
       "min                                   -8.200000                   0.000000   \n",
       "25%                                   -0.300000                   0.000000   \n",
       "50%                                   -0.100000                   0.000000   \n",
       "75%                                    0.200000                   0.000000   \n",
       "max                                    7.300000                   4.000000   \n",
       "\n",
       "       PREDICTOR RAT AGE AT LATEST ARREST_20-30  \\\n",
       "count                             223839.000000   \n",
       "mean                                   0.342930   \n",
       "std                                    0.474689   \n",
       "min                                    0.000000   \n",
       "25%                                    0.000000   \n",
       "50%                                    0.000000   \n",
       "75%                                    1.000000   \n",
       "max                                    1.000000   \n",
       "\n",
       "       PREDICTOR RAT AGE AT LATEST ARREST_30-40  \\\n",
       "count                             223839.000000   \n",
       "mean                                   0.209338   \n",
       "std                                    0.406837   \n",
       "min                                    0.000000   \n",
       "25%                                    0.000000   \n",
       "50%                                    0.000000   \n",
       "75%                                    0.000000   \n",
       "max                                    1.000000   \n",
       "\n",
       "       PREDICTOR RAT AGE AT LATEST ARREST_40-50  \\\n",
       "count                             223839.000000   \n",
       "mean                                   0.145421   \n",
       "std                                    0.352526   \n",
       "min                                    0.000000   \n",
       "25%                                    0.000000   \n",
       "50%                                    0.000000   \n",
       "75%                                    0.000000   \n",
       "max                                    1.000000   \n",
       "\n",
       "       PREDICTOR RAT AGE AT LATEST ARREST_50-60  \\\n",
       "count                             223839.000000   \n",
       "mean                                   0.094599   \n",
       "std                                    0.292661   \n",
       "min                                    0.000000   \n",
       "25%                                    0.000000   \n",
       "50%                                    0.000000   \n",
       "75%                                    0.000000   \n",
       "max                                    1.000000   \n",
       "\n",
       "       PREDICTOR RAT AGE AT LATEST ARREST_60-70  \\\n",
       "count                             223839.000000   \n",
       "mean                                   0.020327   \n",
       "std                                    0.141117   \n",
       "min                                    0.000000   \n",
       "25%                                    0.000000   \n",
       "50%                                    0.000000   \n",
       "75%                                    0.000000   \n",
       "max                                    1.000000   \n",
       "\n",
       "       PREDICTOR RAT AGE AT LATEST ARREST_70-80  \\\n",
       "count                             223839.000000   \n",
       "mean                                   0.002225   \n",
       "std                                    0.047116   \n",
       "min                                    0.000000   \n",
       "25%                                    0.000000   \n",
       "50%                                    0.000000   \n",
       "75%                                    0.000000   \n",
       "max                                    1.000000   \n",
       "\n",
       "       PREDICTOR RAT AGE AT LATEST ARREST_less than 20   Poverty_Rate  \n",
       "count                                    223839.000000  223839.000000  \n",
       "mean                                          0.185160      29.924888  \n",
       "std                                           0.388428      14.925837  \n",
       "min                                           0.000000       0.217865  \n",
       "25%                                           0.000000      17.720047  \n",
       "50%                                           0.000000      28.943850  \n",
       "75%                                           0.000000      41.584362  \n",
       "max                                           1.000000     100.000000  "
      ]
     },
     "execution_count": 7,
     "metadata": {},
     "output_type": "execute_result"
    }
   ],
   "source": [
    "# read data\n",
    "df = pd.read_csv('../../data/poverty_census_data.csv')\n",
    "df.describe()"
   ]
  },
  {
   "cell_type": "code",
   "execution_count": 8,
   "metadata": {},
   "outputs": [],
   "source": [
    "# Labels are the values we want to predict\n",
    "labels = np.array(df['SSL SCORE']) # Y\n",
    "df = df.drop('SSL SCORE', axis = 1)\n",
    "x_list = list(df.columns) # X\n",
    "# Convert to numpy array\n",
    "df = np.array(df)"
   ]
  },
  {
   "cell_type": "code",
   "execution_count": 9,
   "metadata": {},
   "outputs": [],
   "source": [
    "X_train, X_test, y_train, y_test = train_test_split(df, labels, test_size = 0.25, random_state = 42)"
   ]
  },
  {
   "attachments": {},
   "cell_type": "markdown",
   "metadata": {},
   "source": [
    "# Linear Support Vector Machine"
   ]
  },
  {
   "cell_type": "code",
   "execution_count": 10,
   "metadata": {},
   "outputs": [],
   "source": [
    "clf = svm.SVC(kernel='linear') # Linear Kernel\n",
    "clf.fit(X_train, y_train)\n",
    "y_pred = clf.predict(X_test)"
   ]
  },
  {
   "cell_type": "code",
   "execution_count": 11,
   "metadata": {},
   "outputs": [
    {
     "data": {
      "text/plain": [
       "Text(0.5, 427.9555555555555, 'Predicted label')"
      ]
     },
     "execution_count": 11,
     "metadata": {},
     "output_type": "execute_result"
    },
    {
     "data": {
      "image/png": "[encoded data removed]",
      "text/plain": [
       "<Figure size 640x480 with 2 Axes>"
      ]
     },
     "metadata": {},
     "output_type": "display_data"
    }
   ],
   "source": [
    "cnf_matrix = metrics.confusion_matrix(y_test, y_pred)\n",
    "class_names=[0,1] # name  of classes\n",
    "fig, ax = plt.subplots()\n",
    "tick_marks = np.arange(len(class_names))\n",
    "plt.xticks(tick_marks, class_names)\n",
    "plt.yticks(tick_marks, class_names)\n",
    "# create heatmap\n",
    "sns.heatmap(pd.DataFrame(cnf_matrix), annot=True, cmap=\"YlGnBu\" ,fmt='g')\n",
    "ax.xaxis.set_label_position(\"top\")\n",
    "plt.tight_layout()\n",
    "plt.title('Confusion matrix', y=1.1)\n",
    "plt.ylabel('Actual label')\n",
    "plt.xlabel('Predicted label')"
   ]
  },
  {
   "cell_type": "code",
   "execution_count": 12,
   "metadata": {},
   "outputs": [
    {
     "name": "stdout",
     "output_type": "stream",
     "text": [
      "                precision    recall  f1-score   support\n",
      "\n",
      " LOW SSL SCORE       0.98      0.90      0.94     15497\n",
      "HIGH SSL SCORE       0.96      0.99      0.98     40463\n",
      "\n",
      "      accuracy                           0.97     55960\n",
      "     macro avg       0.97      0.95      0.96     55960\n",
      "  weighted avg       0.97      0.97      0.97     55960\n",
      "\n"
     ]
    }
   ],
   "source": [
    "target_names = ['LOW SSL SCORE', 'HIGH SSL SCORE']\n",
    "print(classification_report(y_test, y_pred, target_names=target_names))"
   ]
  },
  {
   "cell_type": "code",
   "execution_count": 13,
   "metadata": {},
   "outputs": [
    {
     "name": "stdout",
     "output_type": "stream",
     "text": [
      "Accuracy: 0.9683\n",
      "Precision: 0.9631\n",
      "Recall: 0.9943\n",
      "F1 Score: 0.9784\n"
     ]
    }
   ],
   "source": [
    "print('Accuracy: %.4f' % accuracy_score(y_test, y_pred))\n",
    "print('Precision: %.4f' % precision_score(y_test, y_pred))\n",
    "print('Recall: %.4f' % recall_score(y_test, y_pred))\n",
    "print('F1 Score: %.4f' % f1_score(y_test, y_pred))"
   ]
  },
  {
   "attachments": {},
   "cell_type": "markdown",
   "metadata": {},
   "source": [
    "# RBF Support Vector Machine"
   ]
  },
  {
   "cell_type": "code",
   "execution_count": 14,
   "metadata": {},
   "outputs": [],
   "source": [
    "clf = svm.SVC(kernel='rbf') # Linear Kernel\n",
    "clf.fit(X_train, y_train)\n",
    "y_pred = clf.predict(X_test)"
   ]
  },
  {
   "cell_type": "code",
   "execution_count": 15,
   "metadata": {},
   "outputs": [
    {
     "data": {
      "text/plain": [
       "Text(0.5, 427.9555555555555, 'Predicted label')"
      ]
     },
     "execution_count": 15,
     "metadata": {},
     "output_type": "execute_result"
    },
    {
     "data": {
      "image/png": "[encoded data removed]",
      "text/plain": [
       "<Figure size 640x480 with 2 Axes>"
      ]
     },
     "metadata": {},
     "output_type": "display_data"
    }
   ],
   "source": [
    "cnf_matrix = metrics.confusion_matrix(y_test, y_pred)\n",
    "class_names=[0,1] # name  of classes\n",
    "fig, ax = plt.subplots()\n",
    "tick_marks = np.arange(len(class_names))\n",
    "plt.xticks(tick_marks, class_names)\n",
    "plt.yticks(tick_marks, class_names)\n",
    "# create heatmap\n",
    "sns.heatmap(pd.DataFrame(cnf_matrix), annot=True, cmap=\"YlGnBu\" ,fmt='g')\n",
    "ax.xaxis.set_label_position(\"top\")\n",
    "plt.tight_layout()\n",
    "plt.title('Confusion matrix', y=1.1)\n",
    "plt.ylabel('Actual label')\n",
    "plt.xlabel('Predicted label')"
   ]
  },
  {
   "cell_type": "code",
   "execution_count": 16,
   "metadata": {},
   "outputs": [
    {
     "name": "stdout",
     "output_type": "stream",
     "text": [
      "                precision    recall  f1-score   support\n",
      "\n",
      " LOW SSL SCORE       0.96      0.91      0.94     15497\n",
      "HIGH SSL SCORE       0.97      0.99      0.98     40463\n",
      "\n",
      "      accuracy                           0.97     55960\n",
      "     macro avg       0.97      0.95      0.96     55960\n",
      "  weighted avg       0.97      0.97      0.97     55960\n",
      "\n"
     ]
    }
   ],
   "source": [
    "target_names = ['LOW SSL SCORE', 'HIGH SSL SCORE']\n",
    "print(classification_report(y_test, y_pred, target_names=target_names))"
   ]
  },
  {
   "cell_type": "code",
   "execution_count": 17,
   "metadata": {},
   "outputs": [
    {
     "name": "stdout",
     "output_type": "stream",
     "text": [
      "Accuracy: 0.9659\n",
      "Precision: 0.9668\n",
      "Recall: 0.9867\n",
      "F1 Score: 0.9767\n"
     ]
    }
   ],
   "source": [
    "print('Accuracy: %.4f' % accuracy_score(y_test, y_pred))\n",
    "print('Precision: %.4f' % precision_score(y_test, y_pred))\n",
    "print('Recall: %.4f' % recall_score(y_test, y_pred))\n",
    "print('F1 Score: %.4f' % f1_score(y_test, y_pred))"
   ]
  }
 ],
 "metadata": {
  "kernelspec": {
   "display_name": "Python 3.8.10 64-bit",
   "language": "python",
   "name": "python3"
  },
  "language_info": {
   "codemirror_mode": {
    "name": "ipython",
    "version": 3
   },
   "file_extension": ".py",
   "mimetype": "text/x-python",
   "name": "python",
   "nbconvert_exporter": "python",
   "pygments_lexer": "ipython3",
   "version": "3.8.10 (default, Jun 22 2022, 20:18:18) \n[GCC 9.4.0]"
  },
  "orig_nbformat": 4,
  "vscode": {
   "interpreter": {
    "hash": "916dbcbb3f70747c44a77c7bcd40155683ae19c65e1c03b4aa3499c5328201f1"
   }
  }
 },
 "nbformat": 4,
 "nbformat_minor": 2
}
