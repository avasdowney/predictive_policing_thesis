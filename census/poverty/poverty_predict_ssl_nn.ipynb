{
 "cells": [
  {
   "cell_type": "code",
   "execution_count": 1,
   "metadata": {},
   "outputs": [
    {
     "name": "stderr",
     "output_type": "stream",
     "text": [
      "2022-12-28 15:05:17.214977: I tensorflow/core/platform/cpu_feature_guard.cc:193] This TensorFlow binary is optimized with oneAPI Deep Neural Network Library (oneDNN) to use the following CPU instructions in performance-critical operations:  AVX2 FMA\n",
      "To enable them in other operations, rebuild TensorFlow with the appropriate compiler flags.\n",
      "2022-12-28 15:05:18.044006: W tensorflow/stream_executor/platform/default/dso_loader.cc:64] Could not load dynamic library 'libcudart.so.11.0'; dlerror: libcudart.so.11.0: cannot open shared object file: No such file or directory\n",
      "2022-12-28 15:05:18.044031: I tensorflow/stream_executor/cuda/cudart_stub.cc:29] Ignore above cudart dlerror if you do not have a GPU set up on your machine.\n",
      "2022-12-28 15:05:18.152383: E tensorflow/stream_executor/cuda/cuda_blas.cc:2981] Unable to register cuBLAS factory: Attempting to register factory for plugin cuBLAS when one has already been registered\n",
      "2022-12-28 15:05:19.705895: W tensorflow/stream_executor/platform/default/dso_loader.cc:64] Could not load dynamic library 'libnvinfer.so.7'; dlerror: libnvinfer.so.7: cannot open shared object file: No such file or directory\n",
      "2022-12-28 15:05:19.706033: W tensorflow/stream_executor/platform/default/dso_loader.cc:64] Could not load dynamic library 'libnvinfer_plugin.so.7'; dlerror: libnvinfer_plugin.so.7: cannot open shared object file: No such file or directory\n",
      "2022-12-28 15:05:19.706043: W tensorflow/compiler/tf2tensorrt/utils/py_utils.cc:38] TF-TRT Warning: Cannot dlopen some TensorRT libraries. If you would like to use Nvidia GPU with TensorRT, please make sure the missing libraries mentioned above are installed properly.\n"
     ]
    }
   ],
   "source": [
    "import pandas as pd\n",
    "import numpy as np\n",
    "\n",
    "from sklearn.model_selection import train_test_split\n",
    "\n",
    "import tensorflow as tf\n",
    "\n",
    "np.random.seed(1)"
   ]
  },
  {
   "cell_type": "code",
   "execution_count": 2,
   "metadata": {},
   "outputs": [
    {
     "data": {
      "text/html": [
       "<div>\n",
       "<style scoped>\n",
       "    .dataframe tbody tr th:only-of-type {\n",
       "        vertical-align: middle;\n",
       "    }\n",
       "\n",
       "    .dataframe tbody tr th {\n",
       "        vertical-align: top;\n",
       "    }\n",
       "\n",
       "    .dataframe thead th {\n",
       "        text-align: right;\n",
       "    }\n",
       "</style>\n",
       "<table border=\"1\" class=\"dataframe\">\n",
       "  <thead>\n",
       "    <tr style=\"text-align: right;\">\n",
       "      <th></th>\n",
       "      <th>SSL SCORE</th>\n",
       "      <th>PREDICTOR RAT VICTIM SHOOTING INCIDENTS</th>\n",
       "      <th>PREDICTOR RAT VICTIM BATTERY OR ASSAULT</th>\n",
       "      <th>PREDICTOR RAT ARRESTS VIOLENT OFFENSES</th>\n",
       "      <th>PREDICTOR RAT GANG AFFILIATION</th>\n",
       "      <th>PREDICTOR RAT NARCOTIC ARRESTS</th>\n",
       "      <th>PREDICTOR RAT TREND IN CRIMINAL ACTIVITY</th>\n",
       "      <th>PREDICTOR RAT UUW ARRESTS</th>\n",
       "      <th>PREDICTOR RAT AGE AT LATEST ARREST_20-30</th>\n",
       "      <th>PREDICTOR RAT AGE AT LATEST ARREST_30-40</th>\n",
       "      <th>PREDICTOR RAT AGE AT LATEST ARREST_40-50</th>\n",
       "      <th>PREDICTOR RAT AGE AT LATEST ARREST_50-60</th>\n",
       "      <th>PREDICTOR RAT AGE AT LATEST ARREST_60-70</th>\n",
       "      <th>PREDICTOR RAT AGE AT LATEST ARREST_70-80</th>\n",
       "      <th>PREDICTOR RAT AGE AT LATEST ARREST_less than 20</th>\n",
       "      <th>Poverty_Rate</th>\n",
       "    </tr>\n",
       "  </thead>\n",
       "  <tbody>\n",
       "    <tr>\n",
       "      <th>count</th>\n",
       "      <td>223839.000000</td>\n",
       "      <td>223839.000000</td>\n",
       "      <td>223839.000000</td>\n",
       "      <td>223839.000000</td>\n",
       "      <td>223839.000000</td>\n",
       "      <td>223839.000000</td>\n",
       "      <td>223839.000000</td>\n",
       "      <td>223839.000000</td>\n",
       "      <td>223839.000000</td>\n",
       "      <td>223839.000000</td>\n",
       "      <td>223839.000000</td>\n",
       "      <td>223839.000000</td>\n",
       "      <td>223839.000000</td>\n",
       "      <td>223839.000000</td>\n",
       "      <td>223839.000000</td>\n",
       "      <td>223839.000000</td>\n",
       "    </tr>\n",
       "    <tr>\n",
       "      <th>mean</th>\n",
       "      <td>0.722957</td>\n",
       "      <td>0.032573</td>\n",
       "      <td>0.056357</td>\n",
       "      <td>0.156005</td>\n",
       "      <td>0.258463</td>\n",
       "      <td>0.481784</td>\n",
       "      <td>-0.067300</td>\n",
       "      <td>0.047297</td>\n",
       "      <td>0.342930</td>\n",
       "      <td>0.209338</td>\n",
       "      <td>0.145421</td>\n",
       "      <td>0.094599</td>\n",
       "      <td>0.020327</td>\n",
       "      <td>0.002225</td>\n",
       "      <td>0.185160</td>\n",
       "      <td>29.924888</td>\n",
       "    </tr>\n",
       "    <tr>\n",
       "      <th>std</th>\n",
       "      <td>0.447539</td>\n",
       "      <td>0.193414</td>\n",
       "      <td>0.262757</td>\n",
       "      <td>0.468660</td>\n",
       "      <td>0.437790</td>\n",
       "      <td>1.005172</td>\n",
       "      <td>0.447049</td>\n",
       "      <td>0.228805</td>\n",
       "      <td>0.474689</td>\n",
       "      <td>0.406837</td>\n",
       "      <td>0.352526</td>\n",
       "      <td>0.292661</td>\n",
       "      <td>0.141117</td>\n",
       "      <td>0.047116</td>\n",
       "      <td>0.388428</td>\n",
       "      <td>14.925837</td>\n",
       "    </tr>\n",
       "    <tr>\n",
       "      <th>min</th>\n",
       "      <td>0.000000</td>\n",
       "      <td>0.000000</td>\n",
       "      <td>0.000000</td>\n",
       "      <td>0.000000</td>\n",
       "      <td>0.000000</td>\n",
       "      <td>0.000000</td>\n",
       "      <td>-8.200000</td>\n",
       "      <td>0.000000</td>\n",
       "      <td>0.000000</td>\n",
       "      <td>0.000000</td>\n",
       "      <td>0.000000</td>\n",
       "      <td>0.000000</td>\n",
       "      <td>0.000000</td>\n",
       "      <td>0.000000</td>\n",
       "      <td>0.000000</td>\n",
       "      <td>0.217865</td>\n",
       "    </tr>\n",
       "    <tr>\n",
       "      <th>25%</th>\n",
       "      <td>0.000000</td>\n",
       "      <td>0.000000</td>\n",
       "      <td>0.000000</td>\n",
       "      <td>0.000000</td>\n",
       "      <td>0.000000</td>\n",
       "      <td>0.000000</td>\n",
       "      <td>-0.300000</td>\n",
       "      <td>0.000000</td>\n",
       "      <td>0.000000</td>\n",
       "      <td>0.000000</td>\n",
       "      <td>0.000000</td>\n",
       "      <td>0.000000</td>\n",
       "      <td>0.000000</td>\n",
       "      <td>0.000000</td>\n",
       "      <td>0.000000</td>\n",
       "      <td>17.720047</td>\n",
       "    </tr>\n",
       "    <tr>\n",
       "      <th>50%</th>\n",
       "      <td>1.000000</td>\n",
       "      <td>0.000000</td>\n",
       "      <td>0.000000</td>\n",
       "      <td>0.000000</td>\n",
       "      <td>0.000000</td>\n",
       "      <td>0.000000</td>\n",
       "      <td>-0.100000</td>\n",
       "      <td>0.000000</td>\n",
       "      <td>0.000000</td>\n",
       "      <td>0.000000</td>\n",
       "      <td>0.000000</td>\n",
       "      <td>0.000000</td>\n",
       "      <td>0.000000</td>\n",
       "      <td>0.000000</td>\n",
       "      <td>0.000000</td>\n",
       "      <td>28.943850</td>\n",
       "    </tr>\n",
       "    <tr>\n",
       "      <th>75%</th>\n",
       "      <td>1.000000</td>\n",
       "      <td>0.000000</td>\n",
       "      <td>0.000000</td>\n",
       "      <td>0.000000</td>\n",
       "      <td>1.000000</td>\n",
       "      <td>1.000000</td>\n",
       "      <td>0.200000</td>\n",
       "      <td>0.000000</td>\n",
       "      <td>1.000000</td>\n",
       "      <td>0.000000</td>\n",
       "      <td>0.000000</td>\n",
       "      <td>0.000000</td>\n",
       "      <td>0.000000</td>\n",
       "      <td>0.000000</td>\n",
       "      <td>0.000000</td>\n",
       "      <td>41.584362</td>\n",
       "    </tr>\n",
       "    <tr>\n",
       "      <th>max</th>\n",
       "      <td>1.000000</td>\n",
       "      <td>4.000000</td>\n",
       "      <td>10.000000</td>\n",
       "      <td>12.000000</td>\n",
       "      <td>1.000000</td>\n",
       "      <td>27.000000</td>\n",
       "      <td>7.300000</td>\n",
       "      <td>4.000000</td>\n",
       "      <td>1.000000</td>\n",
       "      <td>1.000000</td>\n",
       "      <td>1.000000</td>\n",
       "      <td>1.000000</td>\n",
       "      <td>1.000000</td>\n",
       "      <td>1.000000</td>\n",
       "      <td>1.000000</td>\n",
       "      <td>100.000000</td>\n",
       "    </tr>\n",
       "  </tbody>\n",
       "</table>\n",
       "</div>"
      ],
      "text/plain": [
       "           SSL SCORE  PREDICTOR RAT VICTIM SHOOTING INCIDENTS  \\\n",
       "count  223839.000000                            223839.000000   \n",
       "mean        0.722957                                 0.032573   \n",
       "std         0.447539                                 0.193414   \n",
       "min         0.000000                                 0.000000   \n",
       "25%         0.000000                                 0.000000   \n",
       "50%         1.000000                                 0.000000   \n",
       "75%         1.000000                                 0.000000   \n",
       "max         1.000000                                 4.000000   \n",
       "\n",
       "       PREDICTOR RAT VICTIM BATTERY OR ASSAULT  \\\n",
       "count                            223839.000000   \n",
       "mean                                  0.056357   \n",
       "std                                   0.262757   \n",
       "min                                   0.000000   \n",
       "25%                                   0.000000   \n",
       "50%                                   0.000000   \n",
       "75%                                   0.000000   \n",
       "max                                  10.000000   \n",
       "\n",
       "       PREDICTOR RAT ARRESTS VIOLENT OFFENSES  PREDICTOR RAT GANG AFFILIATION  \\\n",
       "count                           223839.000000                   223839.000000   \n",
       "mean                                 0.156005                        0.258463   \n",
       "std                                  0.468660                        0.437790   \n",
       "min                                  0.000000                        0.000000   \n",
       "25%                                  0.000000                        0.000000   \n",
       "50%                                  0.000000                        0.000000   \n",
       "75%                                  0.000000                        1.000000   \n",
       "max                                 12.000000                        1.000000   \n",
       "\n",
       "       PREDICTOR RAT NARCOTIC ARRESTS  \\\n",
       "count                   223839.000000   \n",
       "mean                         0.481784   \n",
       "std                          1.005172   \n",
       "min                          0.000000   \n",
       "25%                          0.000000   \n",
       "50%                          0.000000   \n",
       "75%                          1.000000   \n",
       "max                         27.000000   \n",
       "\n",
       "       PREDICTOR RAT TREND IN CRIMINAL ACTIVITY  PREDICTOR RAT UUW ARRESTS  \\\n",
       "count                             223839.000000              223839.000000   \n",
       "mean                                  -0.067300                   0.047297   \n",
       "std                                    0.447049                   0.228805   \n",
       "min                                   -8.200000                   0.000000   \n",
       "25%                                   -0.300000                   0.000000   \n",
       "50%                                   -0.100000                   0.000000   \n",
       "75%                                    0.200000                   0.000000   \n",
       "max                                    7.300000                   4.000000   \n",
       "\n",
       "       PREDICTOR RAT AGE AT LATEST ARREST_20-30  \\\n",
       "count                             223839.000000   \n",
       "mean                                   0.342930   \n",
       "std                                    0.474689   \n",
       "min                                    0.000000   \n",
       "25%                                    0.000000   \n",
       "50%                                    0.000000   \n",
       "75%                                    1.000000   \n",
       "max                                    1.000000   \n",
       "\n",
       "       PREDICTOR RAT AGE AT LATEST ARREST_30-40  \\\n",
       "count                             223839.000000   \n",
       "mean                                   0.209338   \n",
       "std                                    0.406837   \n",
       "min                                    0.000000   \n",
       "25%                                    0.000000   \n",
       "50%                                    0.000000   \n",
       "75%                                    0.000000   \n",
       "max                                    1.000000   \n",
       "\n",
       "       PREDICTOR RAT AGE AT LATEST ARREST_40-50  \\\n",
       "count                             223839.000000   \n",
       "mean                                   0.145421   \n",
       "std                                    0.352526   \n",
       "min                                    0.000000   \n",
       "25%                                    0.000000   \n",
       "50%                                    0.000000   \n",
       "75%                                    0.000000   \n",
       "max                                    1.000000   \n",
       "\n",
       "       PREDICTOR RAT AGE AT LATEST ARREST_50-60  \\\n",
       "count                             223839.000000   \n",
       "mean                                   0.094599   \n",
       "std                                    0.292661   \n",
       "min                                    0.000000   \n",
       "25%                                    0.000000   \n",
       "50%                                    0.000000   \n",
       "75%                                    0.000000   \n",
       "max                                    1.000000   \n",
       "\n",
       "       PREDICTOR RAT AGE AT LATEST ARREST_60-70  \\\n",
       "count                             223839.000000   \n",
       "mean                                   0.020327   \n",
       "std                                    0.141117   \n",
       "min                                    0.000000   \n",
       "25%                                    0.000000   \n",
       "50%                                    0.000000   \n",
       "75%                                    0.000000   \n",
       "max                                    1.000000   \n",
       "\n",
       "       PREDICTOR RAT AGE AT LATEST ARREST_70-80  \\\n",
       "count                             223839.000000   \n",
       "mean                                   0.002225   \n",
       "std                                    0.047116   \n",
       "min                                    0.000000   \n",
       "25%                                    0.000000   \n",
       "50%                                    0.000000   \n",
       "75%                                    0.000000   \n",
       "max                                    1.000000   \n",
       "\n",
       "       PREDICTOR RAT AGE AT LATEST ARREST_less than 20   Poverty_Rate  \n",
       "count                                    223839.000000  223839.000000  \n",
       "mean                                          0.185160      29.924888  \n",
       "std                                           0.388428      14.925837  \n",
       "min                                           0.000000       0.217865  \n",
       "25%                                           0.000000      17.720047  \n",
       "50%                                           0.000000      28.943850  \n",
       "75%                                           0.000000      41.584362  \n",
       "max                                           1.000000     100.000000  "
      ]
     },
     "execution_count": 2,
     "metadata": {},
     "output_type": "execute_result"
    }
   ],
   "source": [
    "# read data\n",
    "df = pd.read_csv('../../data/poverty_census_data.csv')\n",
    "df.describe()"
   ]
  },
  {
   "cell_type": "code",
   "execution_count": 3,
   "metadata": {},
   "outputs": [],
   "source": [
    "# Labels are the values we want to predict\n",
    "labels = np.array(df['SSL SCORE']) # Y\n",
    "df = df.drop('SSL SCORE', axis = 1)\n",
    "x_list = list(df.columns) # X\n",
    "# Convert to numpy array\n",
    "df = np.array(df)"
   ]
  },
  {
   "cell_type": "code",
   "execution_count": 4,
   "metadata": {},
   "outputs": [],
   "source": [
    "X_train, X_test, y_train, y_test = train_test_split(df, labels, test_size = 0.25, random_state = 42)"
   ]
  },
  {
   "cell_type": "markdown",
   "metadata": {},
   "source": [
    "# Neural Network"
   ]
  },
  {
   "cell_type": "code",
   "execution_count": 5,
   "metadata": {},
   "outputs": [
    {
     "name": "stderr",
     "output_type": "stream",
     "text": [
      "2022-12-28 15:05:22.697883: W tensorflow/stream_executor/platform/default/dso_loader.cc:64] Could not load dynamic library 'libcuda.so.1'; dlerror: libcuda.so.1: cannot open shared object file: No such file or directory\n",
      "2022-12-28 15:05:22.698598: W tensorflow/stream_executor/cuda/cuda_driver.cc:263] failed call to cuInit: UNKNOWN ERROR (303)\n",
      "2022-12-28 15:05:22.698985: I tensorflow/stream_executor/cuda/cuda_diagnostics.cc:156] kernel driver does not appear to be running on this host (DESKTOP-NCRIRMG): /proc/driver/nvidia/version does not exist\n",
      "2022-12-28 15:05:22.700778: I tensorflow/core/platform/cpu_feature_guard.cc:193] This TensorFlow binary is optimized with oneAPI Deep Neural Network Library (oneDNN) to use the following CPU instructions in performance-critical operations:  AVX2 FMA\n",
      "To enable them in other operations, rebuild TensorFlow with the appropriate compiler flags.\n"
     ]
    }
   ],
   "source": [
    "model = tf.keras.models.Sequential([\n",
    "  tf.keras.layers.Flatten(),\n",
    "  tf.keras.layers.Dense(128, activation='relu'),\n",
    "  tf.keras.layers.Dropout(0.2),\n",
    "  tf.keras.layers.Dense(10)\n",
    "])"
   ]
  },
  {
   "cell_type": "code",
   "execution_count": 6,
   "metadata": {},
   "outputs": [
    {
     "data": {
      "text/plain": [
       "array([[-7.1608863 , -5.413447  ,  2.605083  ,  1.0404396 , -2.2730317 ,\n",
       "         3.8628175 ,  0.6091436 ,  0.06191838,  1.8522484 , -2.0787807 ]],\n",
       "      dtype=float32)"
      ]
     },
     "execution_count": 6,
     "metadata": {},
     "output_type": "execute_result"
    }
   ],
   "source": [
    "predictions = model(X_train[:1]).numpy()\n",
    "predictions"
   ]
  },
  {
   "cell_type": "code",
   "execution_count": 7,
   "metadata": {},
   "outputs": [
    {
     "data": {
      "text/plain": [
       "array([[1.0566796e-05, 6.0652204e-05, 1.8418311e-01, 3.8524210e-02,\n",
       "        1.4018823e-03, 6.4785367e-01, 2.5027892e-02, 1.4479963e-02,\n",
       "        8.6755671e-02, 1.7024475e-03]], dtype=float32)"
      ]
     },
     "execution_count": 7,
     "metadata": {},
     "output_type": "execute_result"
    }
   ],
   "source": [
    "tf.nn.softmax(predictions).numpy()"
   ]
  },
  {
   "cell_type": "code",
   "execution_count": 8,
   "metadata": {},
   "outputs": [],
   "source": [
    "loss_fn = tf.keras.losses.SparseCategoricalCrossentropy(from_logits=True)"
   ]
  },
  {
   "cell_type": "code",
   "execution_count": 9,
   "metadata": {},
   "outputs": [
    {
     "data": {
      "text/plain": [
       "9.710355"
      ]
     },
     "execution_count": 9,
     "metadata": {},
     "output_type": "execute_result"
    }
   ],
   "source": [
    "loss_fn(y_train[:1], predictions).numpy()"
   ]
  },
  {
   "cell_type": "code",
   "execution_count": 10,
   "metadata": {},
   "outputs": [],
   "source": [
    "model.compile(optimizer='adam',\n",
    "              loss=loss_fn,\n",
    "              metrics=['accuracy'])"
   ]
  },
  {
   "cell_type": "code",
   "execution_count": 11,
   "metadata": {},
   "outputs": [
    {
     "name": "stdout",
     "output_type": "stream",
     "text": [
      "Epoch 1/5\n",
      "5247/5247 [==============================] - 13s 2ms/step - loss: 0.1515 - accuracy: 0.9508\n",
      "Epoch 2/5\n",
      "5247/5247 [==============================] - 19s 4ms/step - loss: 0.0848 - accuracy: 0.9688\n",
      "Epoch 3/5\n",
      "5247/5247 [==============================] - 16s 3ms/step - loss: 0.0837 - accuracy: 0.9690\n",
      "Epoch 4/5\n",
      "5247/5247 [==============================] - 16s 3ms/step - loss: 0.0824 - accuracy: 0.9691\n",
      "Epoch 5/5\n",
      "5247/5247 [==============================] - 16s 3ms/step - loss: 0.0819 - accuracy: 0.9693\n"
     ]
    },
    {
     "data": {
      "text/plain": [
       "<keras.callbacks.History at 0x7f87d46c36d0>"
      ]
     },
     "execution_count": 11,
     "metadata": {},
     "output_type": "execute_result"
    }
   ],
   "source": [
    "model.fit(X_train, y_train, epochs=5)"
   ]
  },
  {
   "cell_type": "code",
   "execution_count": 12,
   "metadata": {},
   "outputs": [
    {
     "name": "stdout",
     "output_type": "stream",
     "text": [
      "1749/1749 - 3s - loss: 0.0810 - accuracy: 0.9696 - 3s/epoch - 2ms/step\n"
     ]
    },
    {
     "data": {
      "text/plain": [
       "[0.08104316145181656, 0.9696033000946045]"
      ]
     },
     "execution_count": 12,
     "metadata": {},
     "output_type": "execute_result"
    }
   ],
   "source": [
    "model.evaluate(X_test, y_test, verbose=2)"
   ]
  }
 ],
 "metadata": {
  "kernelspec": {
   "display_name": "Python 3.8.10 64-bit",
   "language": "python",
   "name": "python3"
  },
  "language_info": {
   "codemirror_mode": {
    "name": "ipython",
    "version": 3
   },
   "file_extension": ".py",
   "mimetype": "text/x-python",
   "name": "python",
   "nbconvert_exporter": "python",
   "pygments_lexer": "ipython3",
   "version": "3.8.10"
  },
  "orig_nbformat": 4,
  "vscode": {
   "interpreter": {
    "hash": "916dbcbb3f70747c44a77c7bcd40155683ae19c65e1c03b4aa3499c5328201f1"
   }
  }
 },
 "nbformat": 4,
 "nbformat_minor": 2
}
