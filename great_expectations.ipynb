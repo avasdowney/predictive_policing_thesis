{
 "cells": [
  {
   "cell_type": "code",
   "execution_count": 26,
   "metadata": {
    "collapsed": true
   },
   "outputs": [],
   "source": [
    "import pandas as pd\n",
    "import numpy as np\n",
    "\n",
    "from ruamel import yaml\n",
    "\n",
    "import great_expectations as ge\n",
    "from great_expectations.core.batch import BatchRequest, RuntimeBatchRequest\n",
    "from great_expectations.data_context.data_context import DataContext\n",
    "\n",
    "context = ge.get_context()"
   ]
  },
  {
   "cell_type": "code",
   "execution_count": 27,
   "metadata": {
    "collapsed": false,
    "pycharm": {
     "name": "#%%\n"
    }
   },
   "outputs": [],
   "source": [
    "datasource_config = {\n",
    "    \"name\": \"ava_thesis\",\n",
    "    \"class_name\": \"Datasource\",\n",
    "    \"module_name\": \"great_expectations.datasource\",\n",
    "    \"execution_engine\": {\n",
    "        \"module_name\": \"great_expectations.execution_engine\",\n",
    "        \"class_name\": \"PandasExecutionEngine\",\n",
    "    },\n",
    "    \"data_connectors\": {\n",
    "        \"default_runtime_data_connector_name\": {\n",
    "            \"class_name\": \"RuntimeDataConnector\",\n",
    "            \"module_name\": \"great_expectations.datasource.data_connector\",\n",
    "            \"batch_identifiers\": [\"default_identifier_name\"],\n",
    "        },\n",
    "        \"default_inferred_data_connector_name\": {\n",
    "            \"class_name\": \"InferredAssetFilesystemDataConnector\",\n",
    "            \"base_directory\": \"data/Strategic_Subject_List_-_Historical.csv\",\n",
    "            \"default_regex\": {\"group_names\": [\"data_asset_name\"], \"pattern\": \"(.*)\"},\n",
    "        },\n",
    "    },\n",
    "}"
   ]
  },
  {
   "cell_type": "code",
   "execution_count": 28,
   "metadata": {
    "collapsed": false,
    "pycharm": {
     "name": "#%%\n"
    }
   },
   "outputs": [
    {
     "name": "stdout",
     "output_type": "stream",
     "text": [
      "Attempting to instantiate class from config...\n",
      "\tInstantiating as a Datasource, since class_name is Datasource\n",
      "\tSuccessfully instantiated Datasource\n",
      "\n",
      "\n",
      "ExecutionEngine class name: PandasExecutionEngine\n",
      "Data Connectors:\n",
      "\tdefault_inferred_data_connector_name : InferredAssetFilesystemDataConnector\n",
      "\n",
      "\tAvailable data_asset_names (0 of 0):\n",
      "\n",
      "\tUnmatched data_references (0 of 0):[]\n",
      "\n",
      "\tdefault_runtime_data_connector_name:RuntimeDataConnector\n",
      "\n",
      "\tAvailable data_asset_names (0 of 0):\n",
      "\t\tNote : RuntimeDataConnector will not have data_asset_names until they are passed in through RuntimeBatchRequest\n",
      "\n",
      "\tUnmatched data_references (0 of 0): []\n",
      "\n"
     ]
    },
    {
     "data": {
      "text/plain": [
       "<great_expectations.datasource.new_datasource.Datasource at 0x7fd9f772ed90>"
      ]
     },
     "execution_count": 28,
     "metadata": {},
     "output_type": "execute_result"
    }
   ],
   "source": [
    "context.test_yaml_config(yaml.dump(datasource_config))\n"
   ]
  },
  {
   "cell_type": "code",
   "execution_count": 29,
   "metadata": {
    "collapsed": false,
    "pycharm": {
     "name": "#%%\n"
    }
   },
   "outputs": [
    {
     "data": {
      "text/plain": [
       "<great_expectations.datasource.new_datasource.Datasource at 0x7fd9f772e310>"
      ]
     },
     "execution_count": 29,
     "metadata": {},
     "output_type": "execute_result"
    }
   ],
   "source": [
    "context.add_datasource(**datasource_config)"
   ]
  },
  {
   "cell_type": "code",
   "execution_count": 30,
   "metadata": {
    "collapsed": false,
    "pycharm": {
     "name": "#%%\n"
    }
   },
   "outputs": [],
   "source": [
    "batch_request = RuntimeBatchRequest(\n",
    "    datasource_name=\"ava_thesis\",\n",
    "    data_connector_name=\"default_runtime_data_connector_name\",\n",
    "    data_asset_name=\"police_data\",  # This can be anything that identifies this data_asset for you\n",
    "    runtime_parameters={\"path\": \"data/Strategic_Subject_List_-_Historical.csv\"},  # Add your path here.\n",
    "    batch_identifiers={\"default_identifier_name\": \"default_identifier\"},\n",
    ")"
   ]
  },
  {
   "cell_type": "code",
   "execution_count": 31,
   "metadata": {
    "collapsed": false,
    "pycharm": {
     "name": "#%%\n"
    }
   },
   "outputs": [
    {
     "name": "stderr",
     "output_type": "stream",
     "text": [
      "/home/avasd/.local/lib/python3.8/site-packages/great_expectations/execution_engine/pandas_execution_engine.py:320: DtypeWarning: Columns (47) have mixed types. Specify dtype option on import or set low_memory=False.\n",
      "  df = reader_fn(path, **reader_options)\n"
     ]
    },
    {
     "data": {
      "application/vnd.jupyter.widget-view+json": {
       "model_id": "a31128e9791f4c66a4fec9979b3ec0a5",
       "version_major": 2,
       "version_minor": 0
      },
      "text/plain": [
       "Calculating Metrics:   0%|          | 0/1 [00:00<?, ?it/s]"
      ]
     },
     "metadata": {},
     "output_type": "display_data"
    },
    {
     "name": "stdout",
     "output_type": "stream",
     "text": [
      "   SSL SCORE PREDICTOR RAT AGE AT LATEST ARREST  \\\n",
      "0        306                              20-30   \n",
      "1        352                              20-30   \n",
      "2        349                              20-30   \n",
      "3        344                              20-30   \n",
      "4        343                              20-30   \n",
      "\n",
      "   PREDICTOR RAT VICTIM SHOOTING INCIDENTS  \\\n",
      "0                                        0   \n",
      "1                                        0   \n",
      "2                                        0   \n",
      "3                                        0   \n",
      "4                                        0   \n",
      "\n",
      "   PREDICTOR RAT VICTIM BATTERY OR ASSAULT  \\\n",
      "0                                        0   \n",
      "1                                        1   \n",
      "2                                        0   \n",
      "3                                        0   \n",
      "4                                        0   \n",
      "\n",
      "   PREDICTOR RAT ARRESTS VIOLENT OFFENSES  PREDICTOR RAT GANG AFFILIATION  \\\n",
      "0                                       0                               0   \n",
      "1                                       0                               0   \n",
      "2                                       2                               0   \n",
      "3                                       3                               0   \n",
      "4                                       1                               0   \n",
      "\n",
      "   PREDICTOR RAT NARCOTIC ARRESTS  PREDICTOR RAT TREND IN CRIMINAL ACTIVITY  \\\n",
      "0                               0                                      -0.3   \n",
      "1                               0                                       0.0   \n",
      "2                               2                                       0.0   \n",
      "3                               0                                      -0.3   \n",
      "4                               0                                       0.4   \n",
      "\n",
      "   PREDICTOR RAT UUW ARRESTS SEX CODE CD  ... RAW_HEAT_SCORE STATUS I  \\\n",
      "0                          0           M  ...        0.09110        Y   \n",
      "1                          0           M  ...        0.09949        Y   \n",
      "2                          0           M  ...        0.09908        Y   \n",
      "3                          0           M  ...        0.09810        Y   \n",
      "4                          0           M  ...        0.09794        Y   \n",
      "\n",
      "  PRE RAW HEAT SCORE TRAP FLAGS SSL FLAGS  LATITUDE LONGITUDE  CENSUS TRACT  \\\n",
      "0               9110        NaN       NaN       NaN       NaN           NaN   \n",
      "1               9949        NaN       NaN       NaN       NaN           NaN   \n",
      "2               9908        NaN       NaN       NaN       NaN           NaN   \n",
      "3               9810        NaN       NaN       NaN       NaN           NaN   \n",
      "4               9794        NaN       NaN       NaN       NaN           NaN   \n",
      "\n",
      "   COMMUNITY AREA  LOCATION  \n",
      "0                       NaN  \n",
      "1                       NaN  \n",
      "2                       NaN  \n",
      "3                       NaN  \n",
      "4                       NaN  \n",
      "\n",
      "[5 rows x 48 columns]\n"
     ]
    }
   ],
   "source": [
    "context.create_expectation_suite(\n",
    "    expectation_suite_name=\"thesis_suite\", overwrite_existing=True\n",
    ")\n",
    "validator = context.get_validator(\n",
    "    batch_request=batch_request, expectation_suite_name=\"thesis_suite\"\n",
    ")\n",
    "print(validator.head())"
   ]
  },
  {
   "cell_type": "code",
   "execution_count": 32,
   "metadata": {
    "collapsed": false,
    "pycharm": {
     "name": "#%%\n"
    }
   },
   "outputs": [
    {
     "name": "stderr",
     "output_type": "stream",
     "text": [
      "/home/avasd/.local/lib/python3.8/site-packages/great_expectations/util.py:495: DtypeWarning: Columns (47) have mixed types. Specify dtype option on import or set low_memory=False.\n",
      "  df = pd.read_csv(filename, *args, **kwargs)\n"
     ]
    },
    {
     "data": {
      "text/html": [
       "<div>\n",
       "<style scoped>\n",
       "    .dataframe tbody tr th:only-of-type {\n",
       "        vertical-align: middle;\n",
       "    }\n",
       "\n",
       "    .dataframe tbody tr th {\n",
       "        vertical-align: top;\n",
       "    }\n",
       "\n",
       "    .dataframe thead th {\n",
       "        text-align: right;\n",
       "    }\n",
       "</style>\n",
       "<table border=\"1\" class=\"dataframe\">\n",
       "  <thead>\n",
       "    <tr style=\"text-align: right;\">\n",
       "      <th></th>\n",
       "      <th>SSL SCORE</th>\n",
       "      <th>PREDICTOR RAT AGE AT LATEST ARREST</th>\n",
       "      <th>PREDICTOR RAT VICTIM SHOOTING INCIDENTS</th>\n",
       "      <th>PREDICTOR RAT VICTIM BATTERY OR ASSAULT</th>\n",
       "      <th>PREDICTOR RAT ARRESTS VIOLENT OFFENSES</th>\n",
       "      <th>PREDICTOR RAT GANG AFFILIATION</th>\n",
       "      <th>PREDICTOR RAT NARCOTIC ARRESTS</th>\n",
       "      <th>PREDICTOR RAT TREND IN CRIMINAL ACTIVITY</th>\n",
       "      <th>PREDICTOR RAT UUW ARRESTS</th>\n",
       "      <th>SEX CODE CD</th>\n",
       "      <th>...</th>\n",
       "      <th>RAW_HEAT_SCORE</th>\n",
       "      <th>STATUS I</th>\n",
       "      <th>PRE RAW HEAT SCORE</th>\n",
       "      <th>TRAP FLAGS</th>\n",
       "      <th>SSL FLAGS</th>\n",
       "      <th>LATITUDE</th>\n",
       "      <th>LONGITUDE</th>\n",
       "      <th>CENSUS TRACT</th>\n",
       "      <th>COMMUNITY AREA</th>\n",
       "      <th>LOCATION</th>\n",
       "    </tr>\n",
       "  </thead>\n",
       "  <tbody>\n",
       "    <tr>\n",
       "      <th>0</th>\n",
       "      <td>306</td>\n",
       "      <td>20-30</td>\n",
       "      <td>0</td>\n",
       "      <td>0</td>\n",
       "      <td>0</td>\n",
       "      <td>0</td>\n",
       "      <td>0</td>\n",
       "      <td>-0.3</td>\n",
       "      <td>0</td>\n",
       "      <td>M</td>\n",
       "      <td>...</td>\n",
       "      <td>0.09110</td>\n",
       "      <td>Y</td>\n",
       "      <td>9110</td>\n",
       "      <td>NaN</td>\n",
       "      <td>NaN</td>\n",
       "      <td>NaN</td>\n",
       "      <td>NaN</td>\n",
       "      <td>NaN</td>\n",
       "      <td></td>\n",
       "      <td>NaN</td>\n",
       "    </tr>\n",
       "    <tr>\n",
       "      <th>1</th>\n",
       "      <td>352</td>\n",
       "      <td>20-30</td>\n",
       "      <td>0</td>\n",
       "      <td>1</td>\n",
       "      <td>0</td>\n",
       "      <td>0</td>\n",
       "      <td>0</td>\n",
       "      <td>0.0</td>\n",
       "      <td>0</td>\n",
       "      <td>M</td>\n",
       "      <td>...</td>\n",
       "      <td>0.09949</td>\n",
       "      <td>Y</td>\n",
       "      <td>9949</td>\n",
       "      <td>NaN</td>\n",
       "      <td>NaN</td>\n",
       "      <td>NaN</td>\n",
       "      <td>NaN</td>\n",
       "      <td>NaN</td>\n",
       "      <td></td>\n",
       "      <td>NaN</td>\n",
       "    </tr>\n",
       "    <tr>\n",
       "      <th>2</th>\n",
       "      <td>349</td>\n",
       "      <td>20-30</td>\n",
       "      <td>0</td>\n",
       "      <td>0</td>\n",
       "      <td>2</td>\n",
       "      <td>0</td>\n",
       "      <td>2</td>\n",
       "      <td>0.0</td>\n",
       "      <td>0</td>\n",
       "      <td>M</td>\n",
       "      <td>...</td>\n",
       "      <td>0.09908</td>\n",
       "      <td>Y</td>\n",
       "      <td>9908</td>\n",
       "      <td>NaN</td>\n",
       "      <td>NaN</td>\n",
       "      <td>NaN</td>\n",
       "      <td>NaN</td>\n",
       "      <td>NaN</td>\n",
       "      <td></td>\n",
       "      <td>NaN</td>\n",
       "    </tr>\n",
       "    <tr>\n",
       "      <th>3</th>\n",
       "      <td>344</td>\n",
       "      <td>20-30</td>\n",
       "      <td>0</td>\n",
       "      <td>0</td>\n",
       "      <td>3</td>\n",
       "      <td>0</td>\n",
       "      <td>0</td>\n",
       "      <td>-0.3</td>\n",
       "      <td>0</td>\n",
       "      <td>M</td>\n",
       "      <td>...</td>\n",
       "      <td>0.09810</td>\n",
       "      <td>Y</td>\n",
       "      <td>9810</td>\n",
       "      <td>NaN</td>\n",
       "      <td>NaN</td>\n",
       "      <td>NaN</td>\n",
       "      <td>NaN</td>\n",
       "      <td>NaN</td>\n",
       "      <td></td>\n",
       "      <td>NaN</td>\n",
       "    </tr>\n",
       "    <tr>\n",
       "      <th>4</th>\n",
       "      <td>343</td>\n",
       "      <td>20-30</td>\n",
       "      <td>0</td>\n",
       "      <td>0</td>\n",
       "      <td>1</td>\n",
       "      <td>0</td>\n",
       "      <td>0</td>\n",
       "      <td>0.4</td>\n",
       "      <td>0</td>\n",
       "      <td>M</td>\n",
       "      <td>...</td>\n",
       "      <td>0.09794</td>\n",
       "      <td>Y</td>\n",
       "      <td>9794</td>\n",
       "      <td>NaN</td>\n",
       "      <td>NaN</td>\n",
       "      <td>NaN</td>\n",
       "      <td>NaN</td>\n",
       "      <td>NaN</td>\n",
       "      <td></td>\n",
       "      <td>NaN</td>\n",
       "    </tr>\n",
       "  </tbody>\n",
       "</table>\n",
       "<p>5 rows × 48 columns</p>\n",
       "</div>"
      ],
      "text/plain": [
       "   SSL SCORE PREDICTOR RAT AGE AT LATEST ARREST  \\\n",
       "0        306                              20-30   \n",
       "1        352                              20-30   \n",
       "2        349                              20-30   \n",
       "3        344                              20-30   \n",
       "4        343                              20-30   \n",
       "\n",
       "   PREDICTOR RAT VICTIM SHOOTING INCIDENTS  \\\n",
       "0                                        0   \n",
       "1                                        0   \n",
       "2                                        0   \n",
       "3                                        0   \n",
       "4                                        0   \n",
       "\n",
       "   PREDICTOR RAT VICTIM BATTERY OR ASSAULT  \\\n",
       "0                                        0   \n",
       "1                                        1   \n",
       "2                                        0   \n",
       "3                                        0   \n",
       "4                                        0   \n",
       "\n",
       "   PREDICTOR RAT ARRESTS VIOLENT OFFENSES  PREDICTOR RAT GANG AFFILIATION  \\\n",
       "0                                       0                               0   \n",
       "1                                       0                               0   \n",
       "2                                       2                               0   \n",
       "3                                       3                               0   \n",
       "4                                       1                               0   \n",
       "\n",
       "   PREDICTOR RAT NARCOTIC ARRESTS  PREDICTOR RAT TREND IN CRIMINAL ACTIVITY  \\\n",
       "0                               0                                      -0.3   \n",
       "1                               0                                       0.0   \n",
       "2                               2                                       0.0   \n",
       "3                               0                                      -0.3   \n",
       "4                               0                                       0.4   \n",
       "\n",
       "   PREDICTOR RAT UUW ARRESTS SEX CODE CD  ... RAW_HEAT_SCORE STATUS I  \\\n",
       "0                          0           M  ...        0.09110        Y   \n",
       "1                          0           M  ...        0.09949        Y   \n",
       "2                          0           M  ...        0.09908        Y   \n",
       "3                          0           M  ...        0.09810        Y   \n",
       "4                          0           M  ...        0.09794        Y   \n",
       "\n",
       "  PRE RAW HEAT SCORE TRAP FLAGS SSL FLAGS  LATITUDE LONGITUDE  CENSUS TRACT  \\\n",
       "0               9110        NaN       NaN       NaN       NaN           NaN   \n",
       "1               9949        NaN       NaN       NaN       NaN           NaN   \n",
       "2               9908        NaN       NaN       NaN       NaN           NaN   \n",
       "3               9810        NaN       NaN       NaN       NaN           NaN   \n",
       "4               9794        NaN       NaN       NaN       NaN           NaN   \n",
       "\n",
       "   COMMUNITY AREA  LOCATION  \n",
       "0                       NaN  \n",
       "1                       NaN  \n",
       "2                       NaN  \n",
       "3                       NaN  \n",
       "4                       NaN  \n",
       "\n",
       "[5 rows x 48 columns]"
      ]
     },
     "execution_count": 32,
     "metadata": {},
     "output_type": "execute_result"
    }
   ],
   "source": [
    "df = ge.read_csv(\"data/Strategic_Subject_List_-_Historical.csv\")\n",
    "df.head()"
   ]
  },
  {
   "cell_type": "code",
   "execution_count": 33,
   "metadata": {
    "collapsed": false,
    "pycharm": {
     "name": "#%%\n"
    }
   },
   "outputs": [
    {
     "data": {
      "text/plain": [
       "{\n",
       "  \"data_asset_type\": \"Dataset\",\n",
       "  \"ge_cloud_id\": null,\n",
       "  \"expectations\": [],\n",
       "  \"expectation_suite_name\": \"default\",\n",
       "  \"meta\": {\n",
       "    \"great_expectations_version\": \"0.15.26\"\n",
       "  }\n",
       "}"
      ]
     },
     "execution_count": 33,
     "metadata": {},
     "output_type": "execute_result"
    }
   ],
   "source": [
    "df.get_expectation_suite(discard_failed_expectations=False)"
   ]
  },
  {
   "cell_type": "code",
   "execution_count": 34,
   "metadata": {
    "collapsed": false,
    "pycharm": {
     "name": "#%%\n"
    }
   },
   "outputs": [],
   "source": [
    "context = DataContext(\n",
    "    context_root_dir='great_expectations'\n",
    ")"
   ]
  },
  {
   "cell_type": "code",
   "execution_count": 35,
   "metadata": {},
   "outputs": [],
   "source": [
    "expectation_suite_name = \"thesis_suite\"\n",
    "\n",
    "batch_request = {\n",
    "    \"datasource_name\": \"ava_thesis\",\n",
    "    \"data_connector_name\": \"default_runtime_data_connector_name\",\n",
    "    \"data_asset_name\": \"data/Strategic_Subject_List_-_Historical.csv\",\n",
    "}"
   ]
  },
  {
   "cell_type": "code",
   "execution_count": 36,
   "metadata": {},
   "outputs": [
    {
     "ename": "InvalidBatchRequestError",
     "evalue": "Validator could not be created because BatchRequest returned an empty batch_list.\n                Please check your parameters and try again.",
     "output_type": "error",
     "traceback": [
      "\u001b[0;31m---------------------------------------------------------------------------\u001b[0m",
      "\u001b[0;31mInvalidBatchRequestError\u001b[0m                  Traceback (most recent call last)",
      "Cell \u001b[0;32mIn [36], line 1\u001b[0m\n\u001b[0;32m----> 1\u001b[0m validator \u001b[39m=\u001b[39m context\u001b[39m.\u001b[39;49mget_validator(\n\u001b[1;32m      2\u001b[0m     batch_request\u001b[39m=\u001b[39;49mBatchRequest(\u001b[39m*\u001b[39;49m\u001b[39m*\u001b[39;49mbatch_request),\n\u001b[1;32m      3\u001b[0m     expectation_suite_name\u001b[39m=\u001b[39;49mexpectation_suite_name\n\u001b[1;32m      4\u001b[0m )\n\u001b[1;32m      6\u001b[0m validator\u001b[39m.\u001b[39mhead()\n",
      "File \u001b[0;32m~/.local/lib/python3.8/site-packages/great_expectations/data_context/data_context/abstract_data_context.py:956\u001b[0m, in \u001b[0;36mAbstractDataContext.get_validator\u001b[0;34m(self, datasource_name, data_connector_name, data_asset_name, batch, batch_list, batch_request, batch_request_list, batch_data, data_connector_query, batch_identifiers, limit, index, custom_filter_function, sampling_method, sampling_kwargs, splitter_method, splitter_kwargs, runtime_parameters, query, path, batch_filter_parameters, expectation_suite_ge_cloud_id, batch_spec_passthrough, expectation_suite_name, expectation_suite, create_expectation_suite_with_name, include_rendered_content, **kwargs)\u001b[0m\n\u001b[1;32m    930\u001b[0m     \u001b[39mfor\u001b[39;00m batch_request \u001b[39min\u001b[39;00m batch_request_list:\n\u001b[1;32m    931\u001b[0m         batch_list\u001b[39m.\u001b[39mextend(  \u001b[39m# type: ignore[union-attr]\u001b[39;00m\n\u001b[1;32m    932\u001b[0m             \u001b[39mself\u001b[39m\u001b[39m.\u001b[39mget_batch_list(\n\u001b[1;32m    933\u001b[0m                 datasource_name\u001b[39m=\u001b[39mdatasource_name,\n\u001b[0;32m   (...)\u001b[0m\n\u001b[1;32m    953\u001b[0m             )\n\u001b[1;32m    954\u001b[0m         )\n\u001b[0;32m--> 956\u001b[0m \u001b[39mreturn\u001b[39;00m \u001b[39mself\u001b[39;49m\u001b[39m.\u001b[39;49mget_validator_using_batch_list(\n\u001b[1;32m    957\u001b[0m     expectation_suite\u001b[39m=\u001b[39;49mexpectation_suite,  \u001b[39m# type: ignore[arg-type]\u001b[39;49;00m\n\u001b[1;32m    958\u001b[0m     batch_list\u001b[39m=\u001b[39;49mbatch_list,  \u001b[39m# type: ignore[arg-type]\u001b[39;49;00m\n\u001b[1;32m    959\u001b[0m     include_rendered_content\u001b[39m=\u001b[39;49minclude_rendered_content,\n\u001b[1;32m    960\u001b[0m )\n",
      "File \u001b[0;32m~/.local/lib/python3.8/site-packages/great_expectations/data_context/data_context/abstract_data_context.py:981\u001b[0m, in \u001b[0;36mAbstractDataContext.get_validator_using_batch_list\u001b[0;34m(self, expectation_suite, batch_list, include_rendered_content, **kwargs)\u001b[0m\n\u001b[1;32m    969\u001b[0m \u001b[39m\"\"\"\u001b[39;00m\n\u001b[1;32m    970\u001b[0m \n\u001b[1;32m    971\u001b[0m \u001b[39mArgs:\u001b[39;00m\n\u001b[0;32m   (...)\u001b[0m\n\u001b[1;32m    978\u001b[0m \n\u001b[1;32m    979\u001b[0m \u001b[39m\"\"\"\u001b[39;00m\n\u001b[1;32m    980\u001b[0m \u001b[39mif\u001b[39;00m \u001b[39mlen\u001b[39m(batch_list) \u001b[39m==\u001b[39m \u001b[39m0\u001b[39m:\n\u001b[0;32m--> 981\u001b[0m     \u001b[39mraise\u001b[39;00m ge_exceptions\u001b[39m.\u001b[39mInvalidBatchRequestError(\n\u001b[1;32m    982\u001b[0m         \u001b[39m\"\"\"Validator could not be created because BatchRequest returned an empty batch_list.\u001b[39;00m\n\u001b[1;32m    983\u001b[0m \u001b[39m        Please check your parameters and try again.\"\"\"\u001b[39;00m\n\u001b[1;32m    984\u001b[0m     )\n\u001b[1;32m    985\u001b[0m include_rendered_content \u001b[39m=\u001b[39m (\n\u001b[1;32m    986\u001b[0m     \u001b[39mself\u001b[39m\u001b[39m.\u001b[39m_determine_if_expectation_validation_result_include_rendered_content(\n\u001b[1;32m    987\u001b[0m         include_rendered_content\u001b[39m=\u001b[39minclude_rendered_content\n\u001b[1;32m    988\u001b[0m     )\n\u001b[1;32m    989\u001b[0m )\n\u001b[1;32m    990\u001b[0m \u001b[39m# We get a single batch_definition so we can get the execution_engine here. All batches will share the same one\u001b[39;00m\n\u001b[1;32m    991\u001b[0m \u001b[39m# So the batch itself doesn't matter. But we use -1 because that will be the latest batch loaded.\u001b[39;00m\n",
      "\u001b[0;31mInvalidBatchRequestError\u001b[0m: Validator could not be created because BatchRequest returned an empty batch_list.\n                Please check your parameters and try again."
     ]
    }
   ],
   "source": [
    "validator = context.get_validator(\n",
    "    batch_request=BatchRequest(**batch_request),\n",
    "    expectation_suite_name=expectation_suite_name\n",
    ")\n",
    "\n",
    "validator.head()"
   ]
  }
 ],
 "metadata": {
  "kernelspec": {
   "display_name": "Python 3.8.10 64-bit",
   "language": "python",
   "name": "python3"
  },
  "language_info": {
   "codemirror_mode": {
    "name": "ipython",
    "version": 3
   },
   "file_extension": ".py",
   "mimetype": "text/x-python",
   "name": "python",
   "nbconvert_exporter": "python",
   "pygments_lexer": "ipython3",
   "version": "3.8.10"
  },
  "vscode": {
   "interpreter": {
    "hash": "916dbcbb3f70747c44a77c7bcd40155683ae19c65e1c03b4aa3499c5328201f1"
   }
  }
 },
 "nbformat": 4,
 "nbformat_minor": 0
}
